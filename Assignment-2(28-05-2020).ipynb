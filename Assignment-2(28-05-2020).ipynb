{
 "cells": [
  {
   "cell_type": "code",
   "execution_count": 9,
   "metadata": {},
   "outputs": [
    {
     "name": "stdout",
     "output_type": "stream",
     "text": [
      "Enter score between 0.0 and 1.0: 0.85\n",
      "B\n"
     ]
    }
   ],
   "source": [
    "# Write a program to prompt for a score between 0.0 and 1.0. If the score is out of range, print an error. If the score is between 0.0 and 1.0, print a grade using the following table:\n",
    "# Score Grade\n",
    "# >= 0.9 A\n",
    "# >= 0.8 B\n",
    "# >= 0.7 C\n",
    "# >= 0.6 D\n",
    "# < 0.6 F\n",
    "\n",
    "score = float(input(\"Enter score between 0.0 and 1.0: \"))\n",
    "if score>1.0 or score<0.0 :\n",
    "    print (\"error\")\n",
    "elif score>=0.9 :\n",
    "    print ('A')\n",
    "elif score>=0.8 :\n",
    "    print ('B')\n",
    "elif score>=0.7 :\n",
    "    print ('C')\n",
    "elif score>=0.6 :\n",
    "    print ('D')\n",
    "else :\n",
    "    print ('F')\n",
    "exit()\n"
   ]
  },
  {
   "cell_type": "code",
   "execution_count": 6,
   "metadata": {},
   "outputs": [
    {
     "name": "stdout",
     "output_type": "stream",
     "text": [
      "fizzbuzz\n",
      "1\n",
      "2\n",
      "fizz\n",
      "4\n",
      "buzz\n",
      "fizz\n",
      "7\n",
      "8\n",
      "fizz\n",
      "buzz\n",
      "11\n",
      "fizz\n",
      "13\n",
      "14\n",
      "fizzbuzz\n",
      "16\n",
      "17\n",
      "fizz\n",
      "19\n",
      "buzz\n",
      "fizz\n",
      "22\n",
      "23\n",
      "fizz\n",
      "buzz\n",
      "26\n",
      "fizz\n",
      "28\n",
      "29\n",
      "fizzbuzz\n",
      "31\n",
      "32\n",
      "fizz\n",
      "34\n",
      "buzz\n",
      "fizz\n",
      "37\n",
      "38\n",
      "fizz\n",
      "buzz\n",
      "41\n",
      "fizz\n",
      "43\n",
      "44\n",
      "fizzbuzz\n",
      "46\n",
      "47\n",
      "fizz\n",
      "49\n"
     ]
    }
   ],
   "source": [
    "# Write a Python program which iterates the integers from 1 to 50. \n",
    "# For multiples of three print \"Fizz\" \n",
    "# instead of the number and for the multiples of five print \"Buzz\". \n",
    "# For numbers which are multiples of both three and five print \"FizzBuzz\".\n",
    "\n",
    "for fizzbuzz in range(50):\n",
    "    if fizzbuzz % 3 == 0 and fizzbuzz % 5 == 0:\n",
    "        print(\"fizzbuzz\")\n",
    "        continue\n",
    "    elif fizzbuzz % 3 == 0:\n",
    "        print(\"fizz\")\n",
    "        continue\n",
    "    elif fizzbuzz % 5 == 0:\n",
    "        print(\"buzz\")\n",
    "        continue\n",
    "    print(fizzbuzz)\n"
   ]
  },
  {
   "cell_type": "code",
   "execution_count": 2,
   "metadata": {},
   "outputs": [
    {
     "name": "stdout",
     "output_type": "stream",
     "text": [
      "1\n",
      "10\n",
      "9\n"
     ]
    }
   ],
   "source": [
    "# Read the input as two limits and Print the output as Palindrome count between the two limits\n",
    "# Example #1; Input : 1 10 Output : 9\n",
    "# Example #2: Input : 1 100 Output : 18\n",
    "\n",
    "l=int(input())\n",
    "u=int(input())\n",
    "c=0\n",
    "for i in range(1,u+1):\n",
    "    s=str(i)\n",
    "    if s==s[::-1]:\n",
    "        c=c+1\n",
    "print(c)\n"
   ]
  },
  {
   "cell_type": "code",
   "execution_count": 9,
   "metadata": {},
   "outputs": [
    {
     "name": "stdout",
     "output_type": "stream",
     "text": [
      "enter first number 26\n",
      "enter second number 15\n",
      "enter third number 29\n",
      "the median is = 26\n"
     ]
    }
   ],
   "source": [
    "# Write a Python program to find the median of three values.\n",
    "\n",
    "a=input(\"enter first number \")\n",
    "b=input(\"enter second number \")\n",
    "c=input(\"enter third number \")\n",
    "if a>b:\n",
    "    if a<c:\n",
    "        med=a\n",
    "    elif b>c:\n",
    "        med=b\n",
    "    else:\n",
    "        med=c\n",
    "else:\n",
    "    if a>c:\n",
    "        med=a\n",
    "    elif b<c:\n",
    "        med=b\n",
    "    else:\n",
    "        med=c\n",
    "print(\"the median is =\",med)"
   ]
  },
  {
   "cell_type": "code",
   "execution_count": 19,
   "metadata": {},
   "outputs": [
    {
     "name": "stdout",
     "output_type": "stream",
     "text": [
      "puboif\n"
     ]
    }
   ],
   "source": [
    "# input:orange  →   output : puboif\n",
    "\n",
    "value = 'orange'\n",
    "var1=(chr(ord(value[0])+1))\n",
    "var2=(chr(ord(value[1])+3))\n",
    "var3=(chr(ord(value[2])+1))\n",
    "var4=(chr(ord(value[3])+1))\n",
    "var5=(chr(ord(value[4])+2))\n",
    "var6=(chr(ord(value[5])+1))\n",
    "value=var1+var2+var3+var4+var5+var6\n",
    "print(value)"
   ]
  },
  {
   "cell_type": "code",
   "execution_count": 18,
   "metadata": {},
   "outputs": [
    {
     "name": "stdout",
     "output_type": "stream",
     "text": [
      "enter string: abbaaccbbaaa\n",
      "no: of pairs of a: 2\n"
     ]
    }
   ],
   "source": [
    "# count the no.of pairs of a in the given string(Infosys InfyTQ)\n",
    "# string →  \"abbaaccbbaaa\"\n",
    "# output →  2\n",
    "\n",
    "s=input(\"enter string: \")\n",
    "s=s.lower()\n",
    "count=0\n",
    "i=0\n",
    "while i<(len(s)-1):\n",
    "    if(s[i]=='a'):\n",
    "        if(s[i+1]=='a'):\n",
    "            count += 1\n",
    "            i+=1\n",
    "    i+=1\n",
    "print(\"no: of pairs of a:\",count)"
   ]
  },
  {
   "cell_type": "code",
   "execution_count": 15,
   "metadata": {},
   "outputs": [
    {
     "name": "stdout",
     "output_type": "stream",
     "text": [
      "enter a string :((((()()()))))()\n",
      "8\n"
     ]
    }
   ],
   "source": [
    "# string →  \"((((()()()))))()\"\n",
    "# output →  8\n",
    "\n",
    "s1=input(\"enter a string :\")\n",
    "count=0\n",
    "i=0\n",
    "while i<(len(s1)-1):\n",
    "    if(s1[i]=='('):\n",
    "        count+=1\n",
    "    i+=1\n",
    "print(count)"
   ]
  },
  {
   "cell_type": "code",
   "execution_count": 20,
   "metadata": {},
   "outputs": [
    {
     "name": "stdout",
     "output_type": "stream",
     "text": [
      "enter string:Appli123cation456 \n",
      "21\n"
     ]
    }
   ],
   "source": [
    "#Accept input as a string and display sum of digits as the output \n",
    "#input:Appli123cation456 \n",
    "#Output: 21\n",
    "\n",
    "s=input(\"enter string:\")\n",
    "sum=0\n",
    "for i in range(0,len(s)):\n",
    "    if(s[i]>='0' and s[i]<='9'):\n",
    "        sum += int(s[i])\n",
    "    else:\n",
    "        continue\n",
    "print(sum)"
   ]
  },
  {
   "cell_type": "code",
   "execution_count": 23,
   "metadata": {},
   "outputs": [
    {
     "name": "stdout",
     "output_type": "stream",
     "text": [
      "enter a string:ae123@1235 ps\n",
      "number of vowels: 2\n",
      "number of consonants: 2\n",
      "number of whitespaces: 1\n",
      "number of special characters: 1\n",
      "number of digits: 7\n"
     ]
    }
   ],
   "source": [
    "# Accept a string from the user and count no.of vowels,consonants and special\n",
    "#characters\n",
    "str=input(\"enter a string:\")\n",
    "str=str.lower()\n",
    "vowel=0\n",
    "cons=0\n",
    "space=0\n",
    "digit=0\n",
    "spl=0\n",
    "for i in range(0,len(str)):\n",
    "    if(str[i]=='a' or str[i]=='e' or str[i]=='i' or str[i]=='o' or str[i]=='u'):\n",
    "        vowel += 1\n",
    "    elif(str[i]>'a' and str[i]<'z'):\n",
    "        cons += 1\n",
    "    elif(str[i]==' '):\n",
    "        space += 1\n",
    "    elif(str[i]>='0' and str[i]<='9'):\n",
    "        digit += 1\n",
    "    else:\n",
    "        spl += 1\n",
    "print(\"number of vowels:\",vowel)\n",
    "print(\"number of consonants:\",cons)\n",
    "print(\"number of whitespaces:\",space)\n",
    "print(\"number of special characters:\",spl)\n",
    "print(\"number of digits:\",digit)"
   ]
  },
  {
   "cell_type": "code",
   "execution_count": 22,
   "metadata": {},
   "outputs": [
    {
     "name": "stdout",
     "output_type": "stream",
     "text": [
      "enter a number127\n",
      "848\n"
     ]
    }
   ],
   "source": [
    "# Accept a number as an input and check whether the given number is palindrome or not\n",
    "# if it is a palindrome number print the number on the screen\n",
    "# if it is not a palindrome number reverse that number and add it to previous number \n",
    "# repeat this until will get a palindrome number and print that palindrome number on the screen\n",
    "# input: 127\n",
    "# output: 848\n",
    "\n",
    "n=int(input(\"enter a number\"))\n",
    "r=0\n",
    "rev=0\n",
    "s=0\n",
    "if(str(n)==str(n)[::-1]):\n",
    "    print(\"palindrome\")\n",
    "else:\n",
    "    rev=int(str(n)[::-1])\n",
    "    s = n+rev\n",
    "    print(s)"
   ]
  },
  {
   "cell_type": "code",
   "execution_count": null,
   "metadata": {},
   "outputs": [],
   "source": []
  }
 ],
 "metadata": {
  "kernelspec": {
   "display_name": "Python 3",
   "language": "python",
   "name": "python3"
  },
  "language_info": {
   "codemirror_mode": {
    "name": "ipython",
    "version": 3
   },
   "file_extension": ".py",
   "mimetype": "text/x-python",
   "name": "python",
   "nbconvert_exporter": "python",
   "pygments_lexer": "ipython3",
   "version": "3.7.4"
  }
 },
 "nbformat": 4,
 "nbformat_minor": 2
}
