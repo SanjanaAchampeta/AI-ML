{
 "cells": [
  {
   "cell_type": "markdown",
   "metadata": {},
   "source": [
    "### CSE-221710304051-Sanjana"
   ]
  },
  {
   "cell_type": "markdown",
   "metadata": {},
   "source": [
    "```Q1: CODE CHEF (Chef and String)```\n",
    "https://www.codechef.com/problems/RECNDSTR\n"
   ]
  },
  {
   "cell_type": "code",
   "execution_count": 2,
   "metadata": {},
   "outputs": [
    {
     "name": "stdout",
     "output_type": "stream",
     "text": [
      "4\n",
      "a\n",
      "aa\n",
      "abcd\n",
      "aaaaa\n",
      "YES\n",
      "YES\n",
      "NO\n",
      "YES\n"
     ]
    }
   ],
   "source": [
    "def L(x):\n",
    "    return x[1:]+x[0]\n",
    "def R(x):\n",
    "    return x[-1]+x[0:len(x)-1]\n",
    "n = int(input())\n",
    "list1 = [input() for i in range(n)]\n",
    "for x in list1:\n",
    "    print(\"YES\") if(L(x)==R(x)) else print(\"NO\")"
   ]
  },
  {
   "cell_type": "markdown",
   "metadata": {},
   "source": [
    "```Q2: HACKER RANK(beautiful-days-at-the-movie)```https://www.hackerrank.com/challenges/beautiful-days-at-the-movies/problem"
   ]
  },
  {
   "cell_type": "code",
   "execution_count": 3,
   "metadata": {},
   "outputs": [
    {
     "name": "stdout",
     "output_type": "stream",
     "text": [
      "20 23 6\n",
      "2\n"
     ]
    }
   ],
   "source": [
    "i,j,k = [int(i) for i in input().split(\" \")]\n",
    "count=0\n",
    "while(i<=j):\n",
    "    rev=int(str(i)[::-1])\n",
    "    if(i-rev)%k==0:\n",
    "        count += 1\n",
    "    i += 1\n",
    "print(count)\n",
    "\n",
    "        "
   ]
  },
  {
   "cell_type": "markdown",
   "metadata": {},
   "source": [
    "```Q3: HACKER RANK(Birthday-cake problem)``` https://www.hackerrank.com/challenges/birthday-cake-candles/problem"
   ]
  },
  {
   "cell_type": "code",
   "execution_count": 5,
   "metadata": {},
   "outputs": [
    {
     "name": "stdout",
     "output_type": "stream",
     "text": [
      "4\n",
      "3 2 1 3\n",
      "2\n"
     ]
    }
   ],
   "source": [
    "n = int(input())\n",
    "list1 = [int(i) for i in input().split(\" \")]\n",
    "high = max(list1)\n",
    "count = 0\n",
    "for x in list1:\n",
    "    if (x==high):\n",
    "        count += 1\n",
    "print(count)\n",
    "    "
   ]
  },
  {
   "cell_type": "code",
   "execution_count": 6,
   "metadata": {},
   "outputs": [
    {
     "name": "stdout",
     "output_type": "stream",
     "text": [
      "4\n",
      "3 2 1 3\n",
      "2\n"
     ]
    }
   ],
   "source": [
    "input()\n",
    "arr = input().split()\n",
    "print(arr.count(max(arr)))"
   ]
  },
  {
   "cell_type": "markdown",
   "metadata": {},
   "source": [
    "```Q4: INFYTQ```"
   ]
  },
  {
   "cell_type": "code",
   "execution_count": 1,
   "metadata": {},
   "outputs": [
    {
     "name": "stdout",
     "output_type": "stream",
     "text": [
      "enter a number124\n",
      "545\n"
     ]
    }
   ],
   "source": [
    "'''\n",
    "For a given positive number num,identify the palindrome formed by performing the following operations\n",
    "Add num and its reverse\n",
    "Check whether the sum is palindrome or not.If not,add the sum and its reverse and repeat the process until a palindrome is obtained.\n",
    "Input format : Read num from the standard input stream\n",
    "Output format: print the palindrome calculated to the standard output stream\n",
    "\n",
    "Sample input : 124\n",
    "Sample Output : 545\n",
    "\n",
    "Sample input:195\n",
    "Sample output: 9339 \n",
    "\n",
    "'''\n",
    "n=int(input(\"enter a number\"))\n",
    "if(str(n)==str(n)[::-1]):\n",
    "    print(\"palindrome\")\n",
    "else:\n",
    "    rev=int(str(n)[::-1])\n",
    "    s = n+rev\n",
    "    print(s)\n",
    "    "
   ]
  },
  {
   "cell_type": "markdown",
   "metadata": {},
   "source": [
    "``` Q5: INFYTQ``` https://www.codechef.com/problems/SLAEL"
   ]
  },
  {
   "cell_type": "code",
   "execution_count": 2,
   "metadata": {},
   "outputs": [
    {
     "name": "stdout",
     "output_type": "stream",
     "text": [
      "2\n",
      "5 3\n",
      "2 4 2 4 2\n",
      "5\n",
      "8 5\n",
      "9 3 5 7 8 11 17 2\n",
      "3\n"
     ]
    }
   ],
   "source": [
    "t=int(input())\n",
    "while t:\n",
    "    a=input().split()\n",
    "    n=int(a[0])\n",
    "    k=int(a[1])\n",
    "    lst=input().split()\n",
    "    for i in range(n):\n",
    "        lst[i] = int(lst[i])\n",
    "    greater = 0\n",
    "    length=0\n",
    "    pos = -1\n",
    "    allTimeLong=0\n",
    "    for i in range(n):\n",
    "        if lst[i]>k and greater!=0 and lst[i]!=greater:\n",
    "            greater = lst[i]\n",
    "            if allTimeLong<length:\n",
    "                allTimeLong=length\n",
    "            length = i - pos\n",
    "            pos=i\n",
    "            continue\n",
    "        elif lst[i]>k:\n",
    "            greater = lst[i]\n",
    "            pos=i\n",
    "        length+=1\n",
    "    if allTimeLong<length:\n",
    "        allTimeLong=length\n",
    "    t-=1\n",
    "    print(allTimeLong)"
   ]
  },
  {
   "cell_type": "markdown",
   "metadata": {},
   "source": [
    "```Q5: INFYTQ```"
   ]
  },
  {
   "cell_type": "code",
   "execution_count": 2,
   "metadata": {},
   "outputs": [
    {
     "name": "stdout",
     "output_type": "stream",
     "text": [
      "1,2,1,4\n",
      "4211,12\n"
     ]
    }
   ],
   "source": [
    "'''Consider a non-empty array inarr \n",
    "containing non-zero positive single digit integers separated by “,” (comma).\n",
    "Print a string based on the below logic:\n",
    "From all possible unique three digit number combinations with the elements of inarr\n",
    "Identify the maximum number maxnum among the three digit combinations formed.\n",
    "Print the maxnum followed by the total number of unique digit combinations formed,separating them with a “,” (comma)\n",
    "Assumption: inarr will contain at least 3 elements\n",
    "Note : An element present at a particular index should not be considered more than once while forming a combination.\n",
    "Input format:\n",
    "Read the array inarr from the standard input stream\n",
    "Output format:\n",
    "Print the output to the standard output stream\n",
    "\n",
    "Sample Input : 1,2,1\n",
    "Sample Output: 211,3\n",
    "\n",
    "Sample Input:1,2,1,4\n",
    "Sample output:4211,12\n",
    "'''\n",
    "import itertools as it\n",
    "a=list(map(str,input().split(',')))\n",
    "p = it.permutations(a, len(a))\n",
    "x = list(set(p))               \n",
    "l = []\n",
    "for i in x:                          \n",
    "    p = ''.join(i)                   \n",
    "    l.append(int(p))\n",
    "l.sort()\n",
    "print(str(l[-1])+','+str(len(l)))"
   ]
  },
  {
   "cell_type": "code",
   "execution_count": null,
   "metadata": {},
   "outputs": [],
   "source": []
  }
 ],
 "metadata": {
  "kernelspec": {
   "display_name": "Python 3",
   "language": "python",
   "name": "python3"
  },
  "language_info": {
   "codemirror_mode": {
    "name": "ipython",
    "version": 3
   },
   "file_extension": ".py",
   "mimetype": "text/x-python",
   "name": "python",
   "nbconvert_exporter": "python",
   "pygments_lexer": "ipython3",
   "version": "3.7.6"
  }
 },
 "nbformat": 4,
 "nbformat_minor": 4
}
