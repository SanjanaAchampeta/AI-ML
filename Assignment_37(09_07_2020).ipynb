{
  "nbformat": 4,
  "nbformat_minor": 0,
  "metadata": {
    "colab": {
      "name": "Assignment-37(09-07-2020).ipynb",
      "provenance": [],
      "collapsed_sections": []
    },
    "kernelspec": {
      "name": "python3",
      "display_name": "Python 3"
    }
  },
  "cells": [
    {
      "cell_type": "markdown",
      "metadata": {
        "id": "0IPVWlkLoDLb",
        "colab_type": "text"
      },
      "source": [
        "### CSE-221710304051-Sanjana"
      ]
    },
    {
      "cell_type": "code",
      "metadata": {
        "id": "kI9ad9iJoPNU",
        "colab_type": "code",
        "colab": {
          "base_uri": "https://localhost:8080/",
          "height": 35
        },
        "outputId": "99075ec9-5c0a-4756-8541-c92147c2e41e"
      },
      "source": [
        "import numpy as np\n",
        "import tensorflow as tf\n",
        "import tensorflow.keras as keras\n",
        "import pandas as pd\n",
        "from keras.datasets.mnist import load_data\n",
        "import matplotlib.pyplot as plt\n",
        "%matplotlib inline\n"
      ],
      "execution_count": 1,
      "outputs": [
        {
          "output_type": "stream",
          "text": [
            "Using TensorFlow backend.\n"
          ],
          "name": "stderr"
        }
      ]
    },
    {
      "cell_type": "code",
      "metadata": {
        "id": "Umb8wmIBoP2I",
        "colab_type": "code",
        "colab": {
          "base_uri": "https://localhost:8080/",
          "height": 88
        },
        "outputId": "d4d95769-bd99-4111-d434-b3a4a69519a1"
      },
      "source": [
        "(train_digits,train_labels),(test_digits,test_labels)=load_data()\n",
        "print(train_digits.shape)\n",
        "print(test_digits.shape)"
      ],
      "execution_count": 2,
      "outputs": [
        {
          "output_type": "stream",
          "text": [
            "Downloading data from https://s3.amazonaws.com/img-datasets/mnist.npz\n",
            "11493376/11490434 [==============================] - 1s 0us/step\n",
            "(60000, 28, 28)\n",
            "(10000, 28, 28)\n"
          ],
          "name": "stdout"
        }
      ]
    },
    {
      "cell_type": "code",
      "metadata": {
        "id": "qeE_W4k8oqEU",
        "colab_type": "code",
        "colab": {
          "base_uri": "https://localhost:8080/",
          "height": 35
        },
        "outputId": "8b302396-d700-45fb-d0a0-9a5ce60b8e08"
      },
      "source": [
        "type(train_labels)"
      ],
      "execution_count": 3,
      "outputs": [
        {
          "output_type": "execute_result",
          "data": {
            "text/plain": [
              "numpy.ndarray"
            ]
          },
          "metadata": {
            "tags": []
          },
          "execution_count": 3
        }
      ]
    },
    {
      "cell_type": "code",
      "metadata": {
        "id": "rkdIxBeEogVp",
        "colab_type": "code",
        "colab": {
          "base_uri": "https://localhost:8080/",
          "height": 230
        },
        "outputId": "ac42bf5a-1b16-4e97-c30a-2f068b95ccca"
      },
      "source": [
        "pd.Series(train_labels).value_counts"
      ],
      "execution_count": 4,
      "outputs": [
        {
          "output_type": "execute_result",
          "data": {
            "text/plain": [
              "<bound method IndexOpsMixin.value_counts of 0        5\n",
              "1        0\n",
              "2        4\n",
              "3        1\n",
              "4        9\n",
              "        ..\n",
              "59995    8\n",
              "59996    3\n",
              "59997    5\n",
              "59998    6\n",
              "59999    8\n",
              "Length: 60000, dtype: uint8>"
            ]
          },
          "metadata": {
            "tags": []
          },
          "execution_count": 4
        }
      ]
    },
    {
      "cell_type": "code",
      "metadata": {
        "id": "UFxZ0QHconu0",
        "colab_type": "code",
        "colab": {
          "base_uri": "https://localhost:8080/",
          "height": 230
        },
        "outputId": "a9f79e76-d24d-4178-a954-340c851dfac9"
      },
      "source": [
        "pd.Series(test_labels).value_counts"
      ],
      "execution_count": 5,
      "outputs": [
        {
          "output_type": "execute_result",
          "data": {
            "text/plain": [
              "<bound method IndexOpsMixin.value_counts of 0       7\n",
              "1       2\n",
              "2       1\n",
              "3       0\n",
              "4       4\n",
              "       ..\n",
              "9995    2\n",
              "9996    3\n",
              "9997    4\n",
              "9998    5\n",
              "9999    6\n",
              "Length: 10000, dtype: uint8>"
            ]
          },
          "metadata": {
            "tags": []
          },
          "execution_count": 5
        }
      ]
    },
    {
      "cell_type": "code",
      "metadata": {
        "id": "amyC2D0iozc_",
        "colab_type": "code",
        "colab": {
          "base_uri": "https://localhost:8080/",
          "height": 283
        },
        "outputId": "f8fce2cc-cfff-4389-8a46-c498688528e5"
      },
      "source": [
        "plt.imshow(train_digits[0])"
      ],
      "execution_count": 6,
      "outputs": [
        {
          "output_type": "execute_result",
          "data": {
            "text/plain": [
              "<matplotlib.image.AxesImage at 0x7fa8878a7e80>"
            ]
          },
          "metadata": {
            "tags": []
          },
          "execution_count": 6
        },
        {
          "output_type": "display_data",
          "data": {
            "image/png": "[encoded data removed]",
            "text/plain": [
              "<Figure size 432x288 with 1 Axes>"
            ]
          },
          "metadata": {
            "tags": [],
            "needs_background": "light"
          }
        }
      ]
    },
    {
      "cell_type": "code",
      "metadata": {
        "id": "g8fbxMsIo4a4",
        "colab_type": "code",
        "colab": {
          "base_uri": "https://localhost:8080/",
          "height": 52
        },
        "outputId": "070076c4-2dd7-496e-9c2a-58b672053f97"
      },
      "source": [
        "sample=np.random.randint(train_digits.shape[0],size=16)\n",
        "sample"
      ],
      "execution_count": 7,
      "outputs": [
        {
          "output_type": "execute_result",
          "data": {
            "text/plain": [
              "array([59154, 25577, 18404, 19628, 58628, 22787, 26916, 59962,  8551,\n",
              "       32510, 25098, 48701,  1320, 30230, 28175,  2493])"
            ]
          },
          "metadata": {
            "tags": []
          },
          "execution_count": 7
        }
      ]
    },
    {
      "cell_type": "code",
      "metadata": {
        "id": "XQzoRF5Jo82c",
        "colab_type": "code",
        "colab": {
          "base_uri": "https://localhost:8080/",
          "height": 917
        },
        "outputId": "2fa8dd0f-6149-493e-df4e-3c8dd18a7d6e"
      },
      "source": [
        "plt.figure(figsize=(16,16))\n",
        "j=1\n",
        "for i in sample:\n",
        "  plt.subplot(4,4,j)\n",
        "  plt.imshow(train_digits[i])\n",
        "  plt.title(\"Digit:\"+str(train_labels[i]))\n",
        "  plt.axis(\"off\")\n",
        "  j += 1"
      ],
      "execution_count": 8,
      "outputs": [
        {
          "output_type": "display_data",
          "data": {
            "image/png": "[encoded data removed]",
            "text/plain": [
              "<Figure size 1152x1152 with 16 Axes>"
            ]
          },
          "metadata": {
            "tags": [],
            "needs_background": "light"
          }
        }
      ]
    },
    {
      "cell_type": "code",
      "metadata": {
        "id": "uLrB0y9hpLP2",
        "colab_type": "code",
        "colab": {
          "base_uri": "https://localhost:8080/",
          "height": 106
        },
        "outputId": "f5d5963f-546e-46a8-9bca-dad357f52fda"
      },
      "source": [
        "train_digits[0][5:10,22:25]"
      ],
      "execution_count": 9,
      "outputs": [
        {
          "output_type": "execute_result",
          "data": {
            "text/plain": [
              "array([[247, 127,   0],\n",
              "       [195,  64,   0],\n",
              "       [ 39,   0,   0],\n",
              "       [  0,   0,   0],\n",
              "       [  0,   0,   0]], dtype=uint8)"
            ]
          },
          "metadata": {
            "tags": []
          },
          "execution_count": 9
        }
      ]
    },
    {
      "cell_type": "code",
      "metadata": {
        "id": "Kelr56k4pUB9",
        "colab_type": "code",
        "colab": {}
      },
      "source": [
        "train_digits_sc=train_digits/255.0\n",
        "test_digits_sc=test_digits/255.0"
      ],
      "execution_count": 10,
      "outputs": []
    },
    {
      "cell_type": "code",
      "metadata": {
        "id": "Fiza-FRNpXnA",
        "colab_type": "code",
        "colab": {
          "base_uri": "https://localhost:8080/",
          "height": 35
        },
        "outputId": "515549cc-f024-4806-ddf7-5c5eac571ae6"
      },
      "source": [
        "from keras.utils import to_categorical\n",
        "train_labels_cat = to_categorical(train_labels)\n",
        "test_labels_cat=to_categorical(test_labels)\n",
        "train_labels_cat[0]"
      ],
      "execution_count": 11,
      "outputs": [
        {
          "output_type": "execute_result",
          "data": {
            "text/plain": [
              "array([0., 0., 0., 0., 0., 1., 0., 0., 0., 0.], dtype=float32)"
            ]
          },
          "metadata": {
            "tags": []
          },
          "execution_count": 11
        }
      ]
    },
    {
      "cell_type": "code",
      "metadata": {
        "id": "vEvK4mFypcqF",
        "colab_type": "code",
        "colab": {
          "base_uri": "https://localhost:8080/",
          "height": 35
        },
        "outputId": "caead327-6c80-423e-f9dc-0a06f627bafc"
      },
      "source": [
        "test_labels_cat = to_categorical(test_labels)\n",
        "test_labels_cat[9]"
      ],
      "execution_count": 12,
      "outputs": [
        {
          "output_type": "execute_result",
          "data": {
            "text/plain": [
              "array([0., 0., 0., 0., 0., 0., 0., 0., 0., 1.], dtype=float32)"
            ]
          },
          "metadata": {
            "tags": []
          },
          "execution_count": 12
        }
      ]
    },
    {
      "cell_type": "code",
      "metadata": {
        "id": "YSrvscdTpiUc",
        "colab_type": "code",
        "colab": {
          "base_uri": "https://localhost:8080/",
          "height": 88
        },
        "outputId": "023e972b-6e31-4fe1-8085-fce6f0fbcd8d"
      },
      "source": [
        "from sklearn.model_selection import train_test_split\n",
        "x_train,x_val,y_train,y_val=train_test_split(train_digits_sc,train_labels_cat,test_size=0.1,random_state=32)\n",
        "print(x_train.shape)\n",
        "print(x_val.shape)\n",
        "print(y_train.shape)\n",
        "print(y_val.shape)"
      ],
      "execution_count": 13,
      "outputs": [
        {
          "output_type": "stream",
          "text": [
            "(54000, 28, 28)\n",
            "(6000, 28, 28)\n",
            "(54000, 10)\n",
            "(6000, 10)\n"
          ],
          "name": "stdout"
        }
      ]
    },
    {
      "cell_type": "markdown",
      "metadata": {
        "id": "kqpq8fwupr52",
        "colab_type": "text"
      },
      "source": [
        "Model 1"
      ]
    },
    {
      "cell_type": "code",
      "metadata": {
        "id": "iEUiW3J7pmq7",
        "colab_type": "code",
        "colab": {
          "base_uri": "https://localhost:8080/",
          "height": 372
        },
        "outputId": "25d9597e-cda9-49c9-93d8-208b5dbfa3b6"
      },
      "source": [
        "from keras.models import Sequential\n",
        "from keras.layers import Dense,Flatten\n",
        "\n",
        "model = Sequential()\n",
        "# first layer we need to mention the input shape\n",
        "\n",
        "model.add(Flatten(input_shape=(28,28)))\n",
        "## 784 pixel values as input to this Dense. 128 Neurons in the layers\n",
        "model.add(Dense(128,activation='relu'))# 784 * 128+128\n",
        "model.add(Dense(128,activation='relu'))# \n",
        "model.add(Dense(64,activation='relu'))\n",
        "model.add(Dense(256,activation='relu'))\n",
        "#Final layer\n",
        "model.add(Dense(10,activation='softmax'))\n",
        "model.summary()"
      ],
      "execution_count": 14,
      "outputs": [
        {
          "output_type": "stream",
          "text": [
            "Model: \"sequential_1\"\n",
            "_________________________________________________________________\n",
            "Layer (type)                 Output Shape              Param #   \n",
            "=================================================================\n",
            "flatten_1 (Flatten)          (None, 784)               0         \n",
            "_________________________________________________________________\n",
            "dense_1 (Dense)              (None, 128)               100480    \n",
            "_________________________________________________________________\n",
            "dense_2 (Dense)              (None, 128)               16512     \n",
            "_________________________________________________________________\n",
            "dense_3 (Dense)              (None, 64)                8256      \n",
            "_________________________________________________________________\n",
            "dense_4 (Dense)              (None, 256)               16640     \n",
            "_________________________________________________________________\n",
            "dense_5 (Dense)              (None, 10)                2570      \n",
            "=================================================================\n",
            "Total params: 144,458\n",
            "Trainable params: 144,458\n",
            "Non-trainable params: 0\n",
            "_________________________________________________________________\n"
          ],
          "name": "stdout"
        }
      ]
    },
    {
      "cell_type": "code",
      "metadata": {
        "id": "FI7hIn6Lpt-E",
        "colab_type": "code",
        "colab": {
          "base_uri": "https://localhost:8080/",
          "height": 212
        },
        "outputId": "5aaddb9d-7344-4615-d919-0363429ce87d"
      },
      "source": [
        "model.compile(optimizer='adam',loss=tf.keras.losses.CategoricalCrossentropy(),metrics=['accuracy'])\n",
        "history=model.fit(x=x_train,y=y_train,epochs=5,validation_data=(x_val,y_val),batch_size=32)"
      ],
      "execution_count": 15,
      "outputs": [
        {
          "output_type": "stream",
          "text": [
            "Train on 54000 samples, validate on 6000 samples\n",
            "Epoch 1/5\n",
            "54000/54000 [==============================] - 8s 152us/step - loss: 0.2476 - accuracy: 0.9240 - val_loss: 0.1422 - val_accuracy: 0.9583\n",
            "Epoch 2/5\n",
            "54000/54000 [==============================] - 8s 141us/step - loss: 0.1114 - accuracy: 0.9658 - val_loss: 0.1193 - val_accuracy: 0.9690\n",
            "Epoch 3/5\n",
            "54000/54000 [==============================] - 8s 139us/step - loss: 0.0814 - accuracy: 0.9752 - val_loss: 0.1133 - val_accuracy: 0.9688\n",
            "Epoch 4/5\n",
            "54000/54000 [==============================] - 8s 141us/step - loss: 0.0632 - accuracy: 0.9798 - val_loss: 0.0956 - val_accuracy: 0.9742\n",
            "Epoch 5/5\n",
            "54000/54000 [==============================] - 8s 141us/step - loss: 0.0532 - accuracy: 0.9830 - val_loss: 0.1153 - val_accuracy: 0.9700\n"
          ],
          "name": "stdout"
        }
      ]
    },
    {
      "cell_type": "code",
      "metadata": {
        "id": "mvrxjddXpx_L",
        "colab_type": "code",
        "colab": {
          "base_uri": "https://localhost:8080/",
          "height": 52
        },
        "outputId": "a7d63717-dd08-406c-b9f1-303c1cc552a9"
      },
      "source": [
        "model.evaluate(test_digits_sc,test_labels_cat)"
      ],
      "execution_count": 16,
      "outputs": [
        {
          "output_type": "stream",
          "text": [
            "10000/10000 [==============================] - 0s 32us/step\n"
          ],
          "name": "stdout"
        },
        {
          "output_type": "execute_result",
          "data": {
            "text/plain": [
              "[0.10012242634356953, 0.9728999733924866]"
            ]
          },
          "metadata": {
            "tags": []
          },
          "execution_count": 16
        }
      ]
    },
    {
      "cell_type": "code",
      "metadata": {
        "id": "PXPCVsuWp6-i",
        "colab_type": "code",
        "colab": {
          "base_uri": "https://localhost:8080/",
          "height": 70
        },
        "outputId": "0886811c-6562-4c00-f8d1-1c45f7456e41"
      },
      "source": [
        "print(test_digits_sc.shape)\n",
        "print(test_digits_sc[0].shape)\n",
        "print(np.expand_dims(test_digits_sc[0],axis=0).shape)"
      ],
      "execution_count": 17,
      "outputs": [
        {
          "output_type": "stream",
          "text": [
            "(10000, 28, 28)\n",
            "(28, 28)\n",
            "(1, 28, 28)\n"
          ],
          "name": "stdout"
        }
      ]
    },
    {
      "cell_type": "code",
      "metadata": {
        "id": "kyvbSaWGp_hg",
        "colab_type": "code",
        "colab": {
          "base_uri": "https://localhost:8080/",
          "height": 70
        },
        "outputId": "ec3e4393-19d0-4686-cae8-4909a517a9e1"
      },
      "source": [
        "model.predict(np.expand_dims(test_digits_sc[0],axis=0))"
      ],
      "execution_count": 18,
      "outputs": [
        {
          "output_type": "execute_result",
          "data": {
            "text/plain": [
              "array([[2.1073436e-08, 2.7222932e-06, 2.5475005e-05, 9.3217959e-06,\n",
              "        5.0868903e-07, 3.7419145e-08, 1.0752378e-09, 9.9992597e-01,\n",
              "        6.1116953e-07, 3.5442557e-05]], dtype=float32)"
            ]
          },
          "metadata": {
            "tags": []
          },
          "execution_count": 18
        }
      ]
    },
    {
      "cell_type": "code",
      "metadata": {
        "id": "KuQnGRpXqD2K",
        "colab_type": "code",
        "colab": {
          "base_uri": "https://localhost:8080/",
          "height": 550
        },
        "outputId": "a4f69e99-8800-44a8-c62f-2670dcbfc2bc"
      },
      "source": [
        "model.predict(test_digits_sc[:10])\n"
      ],
      "execution_count": 19,
      "outputs": [
        {
          "output_type": "execute_result",
          "data": {
            "text/plain": [
              "array([[2.10733564e-08, 2.72228817e-06, 2.54749812e-05, 9.32179591e-06,\n",
              "        5.08688515e-07, 3.74190030e-08, 1.07523368e-09, 9.99925971e-01,\n",
              "        6.11168957e-07, 3.54425574e-05],\n",
              "       [1.10532755e-11, 4.55920741e-08, 1.00000000e+00, 6.93509827e-09,\n",
              "        5.34947434e-11, 1.14782364e-10, 9.07935272e-12, 1.69434911e-10,\n",
              "        3.91155419e-09, 3.79436201e-13],\n",
              "       [7.52645661e-08, 9.99559104e-01, 6.15834579e-05, 2.90731549e-07,\n",
              "        3.54926924e-05, 1.11767731e-05, 6.46724802e-05, 5.69664626e-05,\n",
              "        2.10210346e-04, 3.82093077e-07],\n",
              "       [9.99991894e-01, 2.61315969e-10, 1.65721860e-06, 7.88455612e-09,\n",
              "        9.39369443e-07, 1.20819585e-08, 4.75060369e-06, 6.55381953e-08,\n",
              "        7.86899506e-08, 5.19177888e-07],\n",
              "       [5.20395034e-08, 3.78422010e-05, 1.65482243e-06, 6.69838540e-09,\n",
              "        9.99876380e-01, 6.82196514e-07, 1.42286683e-06, 5.19290006e-06,\n",
              "        1.61863991e-05, 6.06219692e-05],\n",
              "       [9.19794296e-10, 9.99983072e-01, 9.19999138e-07, 1.30280819e-09,\n",
              "        2.58690056e-06, 7.84723753e-08, 1.84965290e-06, 5.27526936e-06,\n",
              "        6.14761939e-06, 7.28432603e-09],\n",
              "       [5.12591100e-07, 4.17061290e-03, 1.74437024e-04, 5.53979476e-07,\n",
              "        9.84266579e-01, 3.54783297e-05, 2.90000662e-05, 3.75896598e-05,\n",
              "        1.12357251e-02, 4.95565400e-05],\n",
              "       [7.24145764e-07, 1.16327943e-08, 4.35845368e-06, 1.48213084e-03,\n",
              "        7.29276053e-06, 5.88691561e-04, 1.35486422e-08, 7.64136257e-06,\n",
              "        6.39996288e-05, 9.97845173e-01],\n",
              "       [1.22653159e-06, 8.82070799e-06, 1.44905162e-05, 6.78718516e-06,\n",
              "        5.60334374e-05, 5.47142386e-01, 4.00095642e-01, 4.59756365e-07,\n",
              "        5.25743030e-02, 9.97691095e-05],\n",
              "       [3.24808020e-08, 2.62784683e-09, 2.01044855e-07, 1.41825126e-07,\n",
              "        1.28994361e-04, 5.74526844e-08, 3.04697045e-10, 6.25577150e-06,\n",
              "        1.12614844e-05, 9.99853134e-01]], dtype=float32)"
            ]
          },
          "metadata": {
            "tags": []
          },
          "execution_count": 19
        }
      ]
    },
    {
      "cell_type": "code",
      "metadata": {
        "id": "wjpzXDEtqIf6",
        "colab_type": "code",
        "colab": {
          "base_uri": "https://localhost:8080/",
          "height": 35
        },
        "outputId": "3dc71c21-9df1-4844-f587-e59d0838b669"
      },
      "source": [
        "model.predict_classes(np.expand_dims(test_digits_sc[0],axis=0))"
      ],
      "execution_count": 20,
      "outputs": [
        {
          "output_type": "execute_result",
          "data": {
            "text/plain": [
              "array([7])"
            ]
          },
          "metadata": {
            "tags": []
          },
          "execution_count": 20
        }
      ]
    },
    {
      "cell_type": "code",
      "metadata": {
        "id": "zS-SONiMqON8",
        "colab_type": "code",
        "colab": {
          "base_uri": "https://localhost:8080/",
          "height": 70
        },
        "outputId": "e24290b1-41ff-4af7-b367-f0708f8972b1"
      },
      "source": [
        "model.predict_proba(np.expand_dims(test_digits_sc[0],axis=0))"
      ],
      "execution_count": 21,
      "outputs": [
        {
          "output_type": "execute_result",
          "data": {
            "text/plain": [
              "array([[2.1073436e-08, 2.7222932e-06, 2.5475005e-05, 9.3217959e-06,\n",
              "        5.0868903e-07, 3.7419145e-08, 1.0752378e-09, 9.9992597e-01,\n",
              "        6.1116953e-07, 3.5442557e-05]], dtype=float32)"
            ]
          },
          "metadata": {
            "tags": []
          },
          "execution_count": 21
        }
      ]
    },
    {
      "cell_type": "code",
      "metadata": {
        "id": "_bBnGL1kqRlI",
        "colab_type": "code",
        "colab": {
          "base_uri": "https://localhost:8080/",
          "height": 301
        },
        "outputId": "3e420312-ef21-4a6e-bdaf-912c1c08f4fb"
      },
      "source": [
        "history.history"
      ],
      "execution_count": 22,
      "outputs": [
        {
          "output_type": "execute_result",
          "data": {
            "text/plain": [
              "{'accuracy': [0.924, 0.96577775, 0.97524077, 0.9797593, 0.98303705],\n",
              " 'loss': [0.24761715116434627,\n",
              "  0.11139268370600486,\n",
              "  0.08140111758490956,\n",
              "  0.06320052832741015,\n",
              "  0.05315383921010868],\n",
              " 'val_accuracy': [0.9583333134651184,\n",
              "  0.968999981880188,\n",
              "  0.968833327293396,\n",
              "  0.9741666913032532,\n",
              "  0.9700000286102295],\n",
              " 'val_loss': [0.14215304854263863,\n",
              "  0.11933628461013238,\n",
              "  0.11326457082480192,\n",
              "  0.09560734839985768,\n",
              "  0.11533055758941918]}"
            ]
          },
          "metadata": {
            "tags": []
          },
          "execution_count": 22
        }
      ]
    },
    {
      "cell_type": "code",
      "metadata": {
        "id": "JmbNs70pqUH8",
        "colab_type": "code",
        "colab": {
          "base_uri": "https://localhost:8080/",
          "height": 283
        },
        "outputId": "8501bc79-bfd6-4171-eae9-b98c6a46c003"
      },
      "source": [
        "plt.plot(history.history['accuracy'])\n",
        "plt.plot(history.history['val_accuracy'])"
      ],
      "execution_count": 23,
      "outputs": [
        {
          "output_type": "execute_result",
          "data": {
            "text/plain": [
              "[<matplotlib.lines.Line2D at 0x7fa8872ccb70>]"
            ]
          },
          "metadata": {
            "tags": []
          },
          "execution_count": 23
        },
        {
          "output_type": "display_data",
          "data": {
            "image/png": "[encoded data removed]",
            "text/plain": [
              "<Figure size 432x288 with 1 Axes>"
            ]
          },
          "metadata": {
            "tags": [],
            "needs_background": "light"
          }
        }
      ]
    },
    {
      "cell_type": "markdown",
      "metadata": {
        "id": "D-904fwIqdlv",
        "colab_type": "text"
      },
      "source": [
        "Model 2"
      ]
    },
    {
      "cell_type": "code",
      "metadata": {
        "id": "9I4cnSJLqZGF",
        "colab_type": "code",
        "colab": {
          "base_uri": "https://localhost:8080/",
          "height": 372
        },
        "outputId": "727f3abd-a8ac-413a-fe6c-3c21d5b53eea"
      },
      "source": [
        "model1 = Sequential()\n",
        "# first layer we need to mention the input shape\n",
        "\n",
        "model1.add(Flatten(input_shape=(28,28)))\n",
        "## 784 pixel values as input to this Dense. 128 Neurons in the layers\n",
        "model1.add(Dense(128,activation='relu'))# 784 * 128+128\n",
        "model1.add(Dense(256,activation='relu'))# \n",
        "model1.add(Dense(64,activation='relu'))\n",
        "model1.add(Dense(256,activation='relu'))\n",
        "#Final layer\n",
        "model1.add(Dense(10,activation='sigmoid'))\n",
        "model1.summary()"
      ],
      "execution_count": 24,
      "outputs": [
        {
          "output_type": "stream",
          "text": [
            "Model: \"sequential_2\"\n",
            "_________________________________________________________________\n",
            "Layer (type)                 Output Shape              Param #   \n",
            "=================================================================\n",
            "flatten_2 (Flatten)          (None, 784)               0         \n",
            "_________________________________________________________________\n",
            "dense_6 (Dense)              (None, 128)               100480    \n",
            "_________________________________________________________________\n",
            "dense_7 (Dense)              (None, 256)               33024     \n",
            "_________________________________________________________________\n",
            "dense_8 (Dense)              (None, 64)                16448     \n",
            "_________________________________________________________________\n",
            "dense_9 (Dense)              (None, 256)               16640     \n",
            "_________________________________________________________________\n",
            "dense_10 (Dense)             (None, 10)                2570      \n",
            "=================================================================\n",
            "Total params: 169,162\n",
            "Trainable params: 169,162\n",
            "Non-trainable params: 0\n",
            "_________________________________________________________________\n"
          ],
          "name": "stdout"
        }
      ]
    },
    {
      "cell_type": "code",
      "metadata": {
        "id": "v4cUo2kfqgT4",
        "colab_type": "code",
        "colab": {
          "base_uri": "https://localhost:8080/",
          "height": 212
        },
        "outputId": "75bb6896-ed71-42a1-914c-ffacc928b7e9"
      },
      "source": [
        "model1.compile(optimizer='adam',loss=tf.keras.losses.CategoricalCrossentropy(),metrics=['accuracy'])\n",
        "history=model1.fit(x=x_train,y=y_train,epochs=5,validation_data=(x_val,y_val),batch_size=32)"
      ],
      "execution_count": 25,
      "outputs": [
        {
          "output_type": "stream",
          "text": [
            "Train on 54000 samples, validate on 6000 samples\n",
            "Epoch 1/5\n",
            "54000/54000 [==============================] - 8s 152us/step - loss: 0.2582 - accuracy: 0.9207 - val_loss: 0.1407 - val_accuracy: 0.9592\n",
            "Epoch 2/5\n",
            "54000/54000 [==============================] - 8s 147us/step - loss: 0.1121 - accuracy: 0.9655 - val_loss: 0.1124 - val_accuracy: 0.9667\n",
            "Epoch 3/5\n",
            "54000/54000 [==============================] - 8s 150us/step - loss: 0.0804 - accuracy: 0.9758 - val_loss: 0.1135 - val_accuracy: 0.9705\n",
            "Epoch 4/5\n",
            "54000/54000 [==============================] - 8s 153us/step - loss: 0.0634 - accuracy: 0.9799 - val_loss: 0.1099 - val_accuracy: 0.9707\n",
            "Epoch 5/5\n",
            "54000/54000 [==============================] - 8s 150us/step - loss: 0.0523 - accuracy: 0.9836 - val_loss: 0.1186 - val_accuracy: 0.9695\n"
          ],
          "name": "stdout"
        }
      ]
    },
    {
      "cell_type": "code",
      "metadata": {
        "id": "YzTKIUfkqk3u",
        "colab_type": "code",
        "colab": {
          "base_uri": "https://localhost:8080/",
          "height": 52
        },
        "outputId": "849ac030-c8d6-4646-b011-e04c233cd219"
      },
      "source": [
        "model1.evaluate(test_digits_sc,test_labels_cat)"
      ],
      "execution_count": 26,
      "outputs": [
        {
          "output_type": "stream",
          "text": [
            "10000/10000 [==============================] - 0s 35us/step\n"
          ],
          "name": "stdout"
        },
        {
          "output_type": "execute_result",
          "data": {
            "text/plain": [
              "[0.10826294855966698, 0.9717000126838684]"
            ]
          },
          "metadata": {
            "tags": []
          },
          "execution_count": 26
        }
      ]
    },
    {
      "cell_type": "code",
      "metadata": {
        "id": "_76usNb2qvG1",
        "colab_type": "code",
        "colab": {
          "base_uri": "https://localhost:8080/",
          "height": 70
        },
        "outputId": "8825df21-7fe2-4b3c-d643-d7ce9c8b1336"
      },
      "source": [
        "print(test_digits_sc.shape)\n",
        "print(test_digits_sc[0].shape)\n",
        "print(np.expand_dims(test_digits_sc[0],axis=0).shape)"
      ],
      "execution_count": 27,
      "outputs": [
        {
          "output_type": "stream",
          "text": [
            "(10000, 28, 28)\n",
            "(28, 28)\n",
            "(1, 28, 28)\n"
          ],
          "name": "stdout"
        }
      ]
    },
    {
      "cell_type": "code",
      "metadata": {
        "id": "PAdI8pxhqx_8",
        "colab_type": "code",
        "colab": {
          "base_uri": "https://localhost:8080/",
          "height": 70
        },
        "outputId": "7b74a1f9-4f91-4800-d89a-cfc26b815397"
      },
      "source": [
        "model1.predict(np.expand_dims(test_digits_sc[0],axis=0))"
      ],
      "execution_count": 28,
      "outputs": [
        {
          "output_type": "execute_result",
          "data": {
            "text/plain": [
              "array([[1.3616425e-10, 1.3197588e-07, 9.6117151e-07, 3.3789722e-05,\n",
              "        2.1591890e-09, 3.9549327e-08, 8.5020034e-13, 9.9985409e-01,\n",
              "        1.8095839e-07, 3.9433930e-06]], dtype=float32)"
            ]
          },
          "metadata": {
            "tags": []
          },
          "execution_count": 28
        }
      ]
    },
    {
      "cell_type": "code",
      "metadata": {
        "id": "8gSieYK-q1DC",
        "colab_type": "code",
        "colab": {
          "base_uri": "https://localhost:8080/",
          "height": 550
        },
        "outputId": "20daf350-8c23-4333-84f3-c48b0042de3a"
      },
      "source": [
        "model1.predict(test_digits_sc[:10])"
      ],
      "execution_count": 29,
      "outputs": [
        {
          "output_type": "execute_result",
          "data": {
            "text/plain": [
              "array([[1.36165551e-10, 1.31975995e-07, 9.61167871e-07, 3.37895945e-05,\n",
              "        2.15919327e-09, 3.95493274e-08, 8.50195457e-13, 9.99854088e-01,\n",
              "        1.80957898e-07, 3.94338576e-06],\n",
              "       [3.99829059e-06, 5.37624646e-06, 9.99921560e-01, 2.00456743e-05,\n",
              "        1.56967853e-05, 2.29707643e-06, 7.97262965e-06, 1.28204611e-05,\n",
              "        1.73307029e-07, 2.93358315e-09],\n",
              "       [5.57204016e-09, 9.97960687e-01, 9.53825838e-06, 3.43254136e-08,\n",
              "        1.04959622e-06, 1.86644257e-07, 1.29967928e-04, 3.52653615e-07,\n",
              "        6.12072563e-06, 2.57500545e-07],\n",
              "       [1.00000000e+00, 2.97566225e-13, 3.52581822e-08, 1.78911339e-08,\n",
              "        4.65155736e-09, 3.30668769e-07, 1.02756749e-05, 1.61878649e-10,\n",
              "        4.78455364e-09, 6.06138784e-08],\n",
              "       [2.10425833e-06, 1.77353621e-04, 6.17251499e-06, 8.93996788e-09,\n",
              "        9.96843994e-01, 8.19284907e-08, 1.95640132e-05, 3.89506931e-06,\n",
              "        1.12167245e-05, 2.77972395e-05],\n",
              "       [5.11220163e-11, 9.99642253e-01, 3.23731832e-08, 1.15654653e-09,\n",
              "        1.17459827e-07, 3.78570730e-10, 1.13510487e-06, 6.06454478e-08,\n",
              "        5.79467951e-07, 2.79340568e-08],\n",
              "       [3.06883112e-06, 2.22057104e-04, 2.15417895e-05, 1.78239839e-06,\n",
              "        9.80849504e-01, 1.92416810e-05, 5.06231881e-05, 1.37388706e-04,\n",
              "        2.23183632e-03, 2.00688839e-04],\n",
              "       [4.18084437e-06, 6.64456081e-08, 3.16028381e-05, 1.31198466e-02,\n",
              "        2.80785525e-06, 6.88803196e-03, 1.02272024e-09, 1.50889158e-04,\n",
              "        1.57945560e-05, 9.96363759e-01],\n",
              "       [3.09100557e-07, 1.07400613e-08, 3.81991583e-07, 2.62855878e-07,\n",
              "        2.40259197e-07, 9.99529600e-01, 9.69916582e-04, 2.15408846e-09,\n",
              "        7.25105247e-06, 1.77716302e-05],\n",
              "       [1.43647192e-08, 2.96699275e-12, 5.52389290e-09, 1.28485453e-06,\n",
              "        2.27241799e-08, 3.42566580e-07, 6.81812666e-14, 8.47256203e-08,\n",
              "        2.26962513e-07, 9.99996543e-01]], dtype=float32)"
            ]
          },
          "metadata": {
            "tags": []
          },
          "execution_count": 29
        }
      ]
    },
    {
      "cell_type": "code",
      "metadata": {
        "id": "wN9Sh1qqq4XS",
        "colab_type": "code",
        "colab": {
          "base_uri": "https://localhost:8080/",
          "height": 35
        },
        "outputId": "d8f65005-b8ca-4f2e-b341-f1a0e7602dd7"
      },
      "source": [
        "model1.predict_classes(np.expand_dims(test_digits_sc[0],axis=0))"
      ],
      "execution_count": 30,
      "outputs": [
        {
          "output_type": "execute_result",
          "data": {
            "text/plain": [
              "array([7])"
            ]
          },
          "metadata": {
            "tags": []
          },
          "execution_count": 30
        }
      ]
    },
    {
      "cell_type": "code",
      "metadata": {
        "id": "feSzd46dq75U",
        "colab_type": "code",
        "colab": {
          "base_uri": "https://localhost:8080/",
          "height": 70
        },
        "outputId": "70c7da1d-7956-4252-c942-81223f363837"
      },
      "source": [
        "model1.predict_proba(np.expand_dims(test_digits_sc[0],axis=0))"
      ],
      "execution_count": 31,
      "outputs": [
        {
          "output_type": "execute_result",
          "data": {
            "text/plain": [
              "array([[1.3616425e-10, 1.3197588e-07, 9.6117151e-07, 3.3789722e-05,\n",
              "        2.1591890e-09, 3.9549327e-08, 8.5020034e-13, 9.9985409e-01,\n",
              "        1.8095839e-07, 3.9433930e-06]], dtype=float32)"
            ]
          },
          "metadata": {
            "tags": []
          },
          "execution_count": 31
        }
      ]
    },
    {
      "cell_type": "code",
      "metadata": {
        "id": "YAQQdkRKq_CU",
        "colab_type": "code",
        "colab": {
          "base_uri": "https://localhost:8080/",
          "height": 301
        },
        "outputId": "c1ea4651-9290-490d-d16f-bce690d61171"
      },
      "source": [
        "history.history"
      ],
      "execution_count": 32,
      "outputs": [
        {
          "output_type": "execute_result",
          "data": {
            "text/plain": [
              "{'accuracy': [0.9207037, 0.9655, 0.9757778, 0.9798704, 0.9836111],\n",
              " 'loss': [0.25819078848179844,\n",
              "  0.11210950565448513,\n",
              "  0.08042707446881535,\n",
              "  0.0634096690521196,\n",
              "  0.05229306927939049],\n",
              " 'val_accuracy': [0.9591666460037231,\n",
              "  0.9666666388511658,\n",
              "  0.9704999923706055,\n",
              "  0.9706666469573975,\n",
              "  0.9695000052452087],\n",
              " 'val_loss': [0.1407479860112071,\n",
              "  0.11243860180675984,\n",
              "  0.11354426516902943,\n",
              "  0.10989132479081551,\n",
              "  0.11861960061856856]}"
            ]
          },
          "metadata": {
            "tags": []
          },
          "execution_count": 32
        }
      ]
    },
    {
      "cell_type": "code",
      "metadata": {
        "id": "773Y8klwrBoe",
        "colab_type": "code",
        "colab": {
          "base_uri": "https://localhost:8080/",
          "height": 283
        },
        "outputId": "f6725725-f108-48ee-85b6-e45f08e96a30"
      },
      "source": [
        "plt.plot(history.history['accuracy'])\n",
        "plt.plot(history.history['val_accuracy'])"
      ],
      "execution_count": 33,
      "outputs": [
        {
          "output_type": "execute_result",
          "data": {
            "text/plain": [
              "[<matplotlib.lines.Line2D at 0x7fa886f399b0>]"
            ]
          },
          "metadata": {
            "tags": []
          },
          "execution_count": 33
        },
        {
          "output_type": "display_data",
          "data": {
            "image/png": "[encoded data removed]",
            "text/plain": [
              "<Figure size 432x288 with 1 Axes>"
            ]
          },
          "metadata": {
            "tags": [],
            "needs_background": "light"
          }
        }
      ]
    },
    {
      "cell_type": "markdown",
      "metadata": {
        "id": "BgLboJeyrXdd",
        "colab_type": "text"
      },
      "source": [
        "- The accuarcy and Val_Accuracy of the model 1 is :[0.10071307541152345, 0.9724000096321106]\n",
        "\n",
        "- The accuarcy andVal_Accuracy of the model 2 is :[0.10321083835801109, 0.9724000096321106]\n",
        "\n",
        "- Hence model 2 is best than model 1"
      ]
    },
    {
      "cell_type": "code",
      "metadata": {
        "id": "Z4VfmQGYrF6E",
        "colab_type": "code",
        "colab": {}
      },
      "source": [
        ""
      ],
      "execution_count": 33,
      "outputs": []
    }
  ]
}