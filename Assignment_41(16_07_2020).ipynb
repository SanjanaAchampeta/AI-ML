{
  "nbformat": 4,
  "nbformat_minor": 0,
  "metadata": {
    "kernelspec": {
      "display_name": "Python 3",
      "language": "python",
      "name": "python3"
    },
    "language_info": {
      "codemirror_mode": {
        "name": "ipython",
        "version": 3
      },
      "file_extension": ".py",
      "mimetype": "text/x-python",
      "name": "python",
      "nbconvert_exporter": "python",
      "pygments_lexer": "ipython3",
      "version": "3.7.4"
    },
    "colab": {
      "name": "Assignment-41(16-07-2020).ipynb",
      "provenance": []
    }
  },
  "cells": [
    {
      "cell_type": "markdown",
      "metadata": {
        "id": "MPtr6zJUkOwR",
        "colab_type": "text"
      },
      "source": [
        "# Assignment 16-07-20"
      ]
    },
    {
      "cell_type": "markdown",
      "metadata": {
        "id": "kpI59_7ykOwX",
        "colab_type": "text"
      },
      "source": [
        "# CSE-221710304051-Sanjana"
      ]
    },
    {
      "cell_type": "code",
      "metadata": {
        "id": "bpCnSV9WkOwa",
        "colab_type": "code",
        "colab": {}
      },
      "source": [
        "import numpy as np\n",
        "import pandas as pd\n",
        "import seaborn as sns\n",
        "import matplotlib.pyplot as plt\n",
        "%matplotlib inline"
      ],
      "execution_count": 3,
      "outputs": []
    },
    {
      "cell_type": "code",
      "metadata": {
        "id": "6ItSzfMEkOwr",
        "colab_type": "code",
        "colab": {
          "base_uri": "https://localhost:8080/",
          "height": 200
        },
        "outputId": "e5d7b4fd-e83b-4618-b5b5-5f65c40f79ef"
      },
      "source": [
        "df=pd.read_csv(\"/all_stocks_5yr.csv\")\n",
        "#df.sort_values('date',ascending=True,inplace=True)\n",
        "df.head()"
      ],
      "execution_count": 4,
      "outputs": [
        {
          "output_type": "execute_result",
          "data": {
            "text/html": [
              "<div>\n",
              "<style scoped>\n",
              "    .dataframe tbody tr th:only-of-type {\n",
              "        vertical-align: middle;\n",
              "    }\n",
              "\n",
              "    .dataframe tbody tr th {\n",
              "        vertical-align: top;\n",
              "    }\n",
              "\n",
              "    .dataframe thead th {\n",
              "        text-align: right;\n",
              "    }\n",
              "</style>\n",
              "<table border=\"1\" class=\"dataframe\">\n",
              "  <thead>\n",
              "    <tr style=\"text-align: right;\">\n",
              "      <th></th>\n",
              "      <th>date</th>\n",
              "      <th>open</th>\n",
              "      <th>high</th>\n",
              "      <th>low</th>\n",
              "      <th>close</th>\n",
              "      <th>volume</th>\n",
              "      <th>Name</th>\n",
              "    </tr>\n",
              "  </thead>\n",
              "  <tbody>\n",
              "    <tr>\n",
              "      <th>0</th>\n",
              "      <td>2013-02-08</td>\n",
              "      <td>15.07</td>\n",
              "      <td>15.12</td>\n",
              "      <td>14.63</td>\n",
              "      <td>14.75</td>\n",
              "      <td>8407500</td>\n",
              "      <td>AAL</td>\n",
              "    </tr>\n",
              "    <tr>\n",
              "      <th>1</th>\n",
              "      <td>2013-02-11</td>\n",
              "      <td>14.89</td>\n",
              "      <td>15.01</td>\n",
              "      <td>14.26</td>\n",
              "      <td>14.46</td>\n",
              "      <td>8882000</td>\n",
              "      <td>AAL</td>\n",
              "    </tr>\n",
              "    <tr>\n",
              "      <th>2</th>\n",
              "      <td>2013-02-12</td>\n",
              "      <td>14.45</td>\n",
              "      <td>14.51</td>\n",
              "      <td>14.10</td>\n",
              "      <td>14.27</td>\n",
              "      <td>8126000</td>\n",
              "      <td>AAL</td>\n",
              "    </tr>\n",
              "    <tr>\n",
              "      <th>3</th>\n",
              "      <td>2013-02-13</td>\n",
              "      <td>14.30</td>\n",
              "      <td>14.94</td>\n",
              "      <td>14.25</td>\n",
              "      <td>14.66</td>\n",
              "      <td>10259500</td>\n",
              "      <td>AAL</td>\n",
              "    </tr>\n",
              "    <tr>\n",
              "      <th>4</th>\n",
              "      <td>2013-02-14</td>\n",
              "      <td>14.94</td>\n",
              "      <td>14.96</td>\n",
              "      <td>13.16</td>\n",
              "      <td>13.99</td>\n",
              "      <td>31879900</td>\n",
              "      <td>AAL</td>\n",
              "    </tr>\n",
              "  </tbody>\n",
              "</table>\n",
              "</div>"
            ],
            "text/plain": [
              "         date   open   high    low  close    volume Name\n",
              "0  2013-02-08  15.07  15.12  14.63  14.75   8407500  AAL\n",
              "1  2013-02-11  14.89  15.01  14.26  14.46   8882000  AAL\n",
              "2  2013-02-12  14.45  14.51  14.10  14.27   8126000  AAL\n",
              "3  2013-02-13  14.30  14.94  14.25  14.66  10259500  AAL\n",
              "4  2013-02-14  14.94  14.96  13.16  13.99  31879900  AAL"
            ]
          },
          "metadata": {
            "tags": []
          },
          "execution_count": 4
        }
      ]
    },
    {
      "cell_type": "code",
      "metadata": {
        "id": "tdv6XwzVlGns",
        "colab_type": "code",
        "colab": {}
      },
      "source": [
        ""
      ],
      "execution_count": 4,
      "outputs": []
    },
    {
      "cell_type": "code",
      "metadata": {
        "id": "dZJZTNlckOw-",
        "colab_type": "code",
        "colab": {
          "base_uri": "https://localhost:8080/",
          "height": 266
        },
        "outputId": "724441a1-d0f4-437e-dadf-5319c446e466"
      },
      "source": [
        "df.info()"
      ],
      "execution_count": 5,
      "outputs": [
        {
          "output_type": "stream",
          "text": [
            "<class 'pandas.core.frame.DataFrame'>\n",
            "RangeIndex: 619040 entries, 0 to 619039\n",
            "Data columns (total 7 columns):\n",
            " #   Column  Non-Null Count   Dtype  \n",
            "---  ------  --------------   -----  \n",
            " 0   date    619040 non-null  object \n",
            " 1   open    619029 non-null  float64\n",
            " 2   high    619032 non-null  float64\n",
            " 3   low     619032 non-null  float64\n",
            " 4   close   619040 non-null  float64\n",
            " 5   volume  619040 non-null  int64  \n",
            " 6   Name    619040 non-null  object \n",
            "dtypes: float64(4), int64(1), object(2)\n",
            "memory usage: 33.1+ MB\n"
          ],
          "name": "stdout"
        }
      ]
    },
    {
      "cell_type": "code",
      "metadata": {
        "id": "PP3hSQLckOxL",
        "colab_type": "code",
        "colab": {
          "base_uri": "https://localhost:8080/",
          "height": 35
        },
        "outputId": "54407627-3b77-44b8-b274-5a948459a890"
      },
      "source": [
        "df.shape"
      ],
      "execution_count": 6,
      "outputs": [
        {
          "output_type": "execute_result",
          "data": {
            "text/plain": [
              "(619040, 7)"
            ]
          },
          "metadata": {
            "tags": []
          },
          "execution_count": 6
        }
      ]
    },
    {
      "cell_type": "code",
      "metadata": {
        "id": "4jHK11WhkOxY",
        "colab_type": "code",
        "colab": {
          "base_uri": "https://localhost:8080/",
          "height": 230
        },
        "outputId": "bb601359-1c25-43a0-902f-57a900eff240"
      },
      "source": [
        "df.Name.value_counts()"
      ],
      "execution_count": 7,
      "outputs": [
        {
          "output_type": "execute_result",
          "data": {
            "text/plain": [
              "APD     1259\n",
              "WYN     1259\n",
              "KMX     1259\n",
              "TXN     1259\n",
              "NKE     1259\n",
              "        ... \n",
              "DXC      215\n",
              "BHGE     152\n",
              "BHF      143\n",
              "DWDP     109\n",
              "APTV      44\n",
              "Name: Name, Length: 505, dtype: int64"
            ]
          },
          "metadata": {
            "tags": []
          },
          "execution_count": 7
        }
      ]
    },
    {
      "cell_type": "code",
      "metadata": {
        "id": "eu4kTknNkOxj",
        "colab_type": "code",
        "colab": {
          "base_uri": "https://localhost:8080/",
          "height": 200
        },
        "outputId": "199f852e-09cb-467b-e185-aab8fe5573ae"
      },
      "source": [
        "df_gpc=df[df.Name=='GPC']\n",
        "df_gpc.head()"
      ],
      "execution_count": 8,
      "outputs": [
        {
          "output_type": "execute_result",
          "data": {
            "text/html": [
              "<div>\n",
              "<style scoped>\n",
              "    .dataframe tbody tr th:only-of-type {\n",
              "        vertical-align: middle;\n",
              "    }\n",
              "\n",
              "    .dataframe tbody tr th {\n",
              "        vertical-align: top;\n",
              "    }\n",
              "\n",
              "    .dataframe thead th {\n",
              "        text-align: right;\n",
              "    }\n",
              "</style>\n",
              "<table border=\"1\" class=\"dataframe\">\n",
              "  <thead>\n",
              "    <tr style=\"text-align: right;\">\n",
              "      <th></th>\n",
              "      <th>date</th>\n",
              "      <th>open</th>\n",
              "      <th>high</th>\n",
              "      <th>low</th>\n",
              "      <th>close</th>\n",
              "      <th>volume</th>\n",
              "      <th>Name</th>\n",
              "    </tr>\n",
              "  </thead>\n",
              "  <tbody>\n",
              "    <tr>\n",
              "      <th>252542</th>\n",
              "      <td>2013-02-08</td>\n",
              "      <td>69.57</td>\n",
              "      <td>69.99</td>\n",
              "      <td>69.57</td>\n",
              "      <td>69.92</td>\n",
              "      <td>533092</td>\n",
              "      <td>GPC</td>\n",
              "    </tr>\n",
              "    <tr>\n",
              "      <th>252543</th>\n",
              "      <td>2013-02-11</td>\n",
              "      <td>69.92</td>\n",
              "      <td>70.11</td>\n",
              "      <td>69.47</td>\n",
              "      <td>69.89</td>\n",
              "      <td>417443</td>\n",
              "      <td>GPC</td>\n",
              "    </tr>\n",
              "    <tr>\n",
              "      <th>252544</th>\n",
              "      <td>2013-02-12</td>\n",
              "      <td>69.87</td>\n",
              "      <td>70.23</td>\n",
              "      <td>69.84</td>\n",
              "      <td>70.19</td>\n",
              "      <td>659367</td>\n",
              "      <td>GPC</td>\n",
              "    </tr>\n",
              "    <tr>\n",
              "      <th>252545</th>\n",
              "      <td>2013-02-13</td>\n",
              "      <td>70.20</td>\n",
              "      <td>70.62</td>\n",
              "      <td>69.89</td>\n",
              "      <td>70.54</td>\n",
              "      <td>600947</td>\n",
              "      <td>GPC</td>\n",
              "    </tr>\n",
              "    <tr>\n",
              "      <th>252546</th>\n",
              "      <td>2013-02-14</td>\n",
              "      <td>70.55</td>\n",
              "      <td>70.87</td>\n",
              "      <td>70.36</td>\n",
              "      <td>70.79</td>\n",
              "      <td>581533</td>\n",
              "      <td>GPC</td>\n",
              "    </tr>\n",
              "  </tbody>\n",
              "</table>\n",
              "</div>"
            ],
            "text/plain": [
              "              date   open   high    low  close  volume Name\n",
              "252542  2013-02-08  69.57  69.99  69.57  69.92  533092  GPC\n",
              "252543  2013-02-11  69.92  70.11  69.47  69.89  417443  GPC\n",
              "252544  2013-02-12  69.87  70.23  69.84  70.19  659367  GPC\n",
              "252545  2013-02-13  70.20  70.62  69.89  70.54  600947  GPC\n",
              "252546  2013-02-14  70.55  70.87  70.36  70.79  581533  GPC"
            ]
          },
          "metadata": {
            "tags": []
          },
          "execution_count": 8
        }
      ]
    },
    {
      "cell_type": "code",
      "metadata": {
        "id": "7GsMI76ukOxv",
        "colab_type": "code",
        "colab": {
          "base_uri": "https://localhost:8080/",
          "height": 35
        },
        "outputId": "08422563-57fc-4317-f644-74e3b9c718fa"
      },
      "source": [
        "df_gpc.shape"
      ],
      "execution_count": 9,
      "outputs": [
        {
          "output_type": "execute_result",
          "data": {
            "text/plain": [
              "(1259, 7)"
            ]
          },
          "metadata": {
            "tags": []
          },
          "execution_count": 9
        }
      ]
    },
    {
      "cell_type": "code",
      "metadata": {
        "id": "Lcgig55KkOx8",
        "colab_type": "code",
        "colab": {
          "base_uri": "https://localhost:8080/",
          "height": 266
        },
        "outputId": "66315921-826e-4f7c-9fa4-ac0c851cdc8f"
      },
      "source": [
        "df_gpc.info()"
      ],
      "execution_count": 10,
      "outputs": [
        {
          "output_type": "stream",
          "text": [
            "<class 'pandas.core.frame.DataFrame'>\n",
            "Int64Index: 1259 entries, 252542 to 253800\n",
            "Data columns (total 7 columns):\n",
            " #   Column  Non-Null Count  Dtype  \n",
            "---  ------  --------------  -----  \n",
            " 0   date    1259 non-null   object \n",
            " 1   open    1259 non-null   float64\n",
            " 2   high    1259 non-null   float64\n",
            " 3   low     1259 non-null   float64\n",
            " 4   close   1259 non-null   float64\n",
            " 5   volume  1259 non-null   int64  \n",
            " 6   Name    1259 non-null   object \n",
            "dtypes: float64(4), int64(1), object(2)\n",
            "memory usage: 78.7+ KB\n"
          ],
          "name": "stdout"
        }
      ]
    },
    {
      "cell_type": "code",
      "metadata": {
        "id": "-BDi1qBmkOyI",
        "colab_type": "code",
        "colab": {
          "base_uri": "https://localhost:8080/",
          "height": 284
        },
        "outputId": "275e7b27-9c94-4f05-9c7b-80eae8925493"
      },
      "source": [
        "x = []\n",
        "y = []\n",
        "for i  in range(df_gpc.shape[0]-7-1):\n",
        "    x.append(df_gpc['high'][i:i+7])\n",
        "    y.append(df_gpc['high'][252542+i+7])\n",
        "print(x[:2])"
      ],
      "execution_count": 11,
      "outputs": [
        {
          "output_type": "stream",
          "text": [
            "[252542    69.99\n",
            "252543    70.11\n",
            "252544    70.23\n",
            "252545    70.62\n",
            "252546    70.87\n",
            "252547    71.44\n",
            "252548    70.91\n",
            "Name: high, dtype: float64, 252543    70.11\n",
            "252544    70.23\n",
            "252545    70.62\n",
            "252546    70.87\n",
            "252547    71.44\n",
            "252548    70.91\n",
            "252549    69.64\n",
            "Name: high, dtype: float64]\n"
          ],
          "name": "stdout"
        }
      ]
    },
    {
      "cell_type": "code",
      "metadata": {
        "id": "oWAT0PEKkOyX",
        "colab_type": "code",
        "colab": {}
      },
      "source": [
        "x=np.array(x)"
      ],
      "execution_count": 12,
      "outputs": []
    },
    {
      "cell_type": "code",
      "metadata": {
        "id": "UKGUMOcGkOyn",
        "colab_type": "code",
        "colab": {
          "base_uri": "https://localhost:8080/",
          "height": 200
        },
        "outputId": "3ae26a17-6310-4323-9b4d-456b3ba3be61"
      },
      "source": [
        "df1=pd.DataFrame(x,columns=['d1','d2','d3','d4','d5','d6','d7'])\n",
        "df1.head()"
      ],
      "execution_count": 13,
      "outputs": [
        {
          "output_type": "execute_result",
          "data": {
            "text/html": [
              "<div>\n",
              "<style scoped>\n",
              "    .dataframe tbody tr th:only-of-type {\n",
              "        vertical-align: middle;\n",
              "    }\n",
              "\n",
              "    .dataframe tbody tr th {\n",
              "        vertical-align: top;\n",
              "    }\n",
              "\n",
              "    .dataframe thead th {\n",
              "        text-align: right;\n",
              "    }\n",
              "</style>\n",
              "<table border=\"1\" class=\"dataframe\">\n",
              "  <thead>\n",
              "    <tr style=\"text-align: right;\">\n",
              "      <th></th>\n",
              "      <th>d1</th>\n",
              "      <th>d2</th>\n",
              "      <th>d3</th>\n",
              "      <th>d4</th>\n",
              "      <th>d5</th>\n",
              "      <th>d6</th>\n",
              "      <th>d7</th>\n",
              "    </tr>\n",
              "  </thead>\n",
              "  <tbody>\n",
              "    <tr>\n",
              "      <th>0</th>\n",
              "      <td>69.99</td>\n",
              "      <td>70.11</td>\n",
              "      <td>70.23</td>\n",
              "      <td>70.62</td>\n",
              "      <td>70.87</td>\n",
              "      <td>71.44</td>\n",
              "      <td>70.91</td>\n",
              "    </tr>\n",
              "    <tr>\n",
              "      <th>1</th>\n",
              "      <td>70.11</td>\n",
              "      <td>70.23</td>\n",
              "      <td>70.62</td>\n",
              "      <td>70.87</td>\n",
              "      <td>71.44</td>\n",
              "      <td>70.91</td>\n",
              "      <td>69.64</td>\n",
              "    </tr>\n",
              "    <tr>\n",
              "      <th>2</th>\n",
              "      <td>70.23</td>\n",
              "      <td>70.62</td>\n",
              "      <td>70.87</td>\n",
              "      <td>71.44</td>\n",
              "      <td>70.91</td>\n",
              "      <td>69.64</td>\n",
              "      <td>68.98</td>\n",
              "    </tr>\n",
              "    <tr>\n",
              "      <th>3</th>\n",
              "      <td>70.62</td>\n",
              "      <td>70.87</td>\n",
              "      <td>71.44</td>\n",
              "      <td>70.91</td>\n",
              "      <td>69.64</td>\n",
              "      <td>68.98</td>\n",
              "      <td>69.58</td>\n",
              "    </tr>\n",
              "    <tr>\n",
              "      <th>4</th>\n",
              "      <td>70.87</td>\n",
              "      <td>71.44</td>\n",
              "      <td>70.91</td>\n",
              "      <td>69.64</td>\n",
              "      <td>68.98</td>\n",
              "      <td>69.58</td>\n",
              "      <td>69.93</td>\n",
              "    </tr>\n",
              "  </tbody>\n",
              "</table>\n",
              "</div>"
            ],
            "text/plain": [
              "      d1     d2     d3     d4     d5     d6     d7\n",
              "0  69.99  70.11  70.23  70.62  70.87  71.44  70.91\n",
              "1  70.11  70.23  70.62  70.87  71.44  70.91  69.64\n",
              "2  70.23  70.62  70.87  71.44  70.91  69.64  68.98\n",
              "3  70.62  70.87  71.44  70.91  69.64  68.98  69.58\n",
              "4  70.87  71.44  70.91  69.64  68.98  69.58  69.93"
            ]
          },
          "metadata": {
            "tags": []
          },
          "execution_count": 13
        }
      ]
    },
    {
      "cell_type": "code",
      "metadata": {
        "id": "RrvhiF0LkOyy",
        "colab_type": "code",
        "colab": {
          "base_uri": "https://localhost:8080/",
          "height": 200
        },
        "outputId": "e010f944-4630-43b7-ae86-ec3889997cf0"
      },
      "source": [
        "df1['d8']=y\n",
        "df1.head()"
      ],
      "execution_count": 14,
      "outputs": [
        {
          "output_type": "execute_result",
          "data": {
            "text/html": [
              "<div>\n",
              "<style scoped>\n",
              "    .dataframe tbody tr th:only-of-type {\n",
              "        vertical-align: middle;\n",
              "    }\n",
              "\n",
              "    .dataframe tbody tr th {\n",
              "        vertical-align: top;\n",
              "    }\n",
              "\n",
              "    .dataframe thead th {\n",
              "        text-align: right;\n",
              "    }\n",
              "</style>\n",
              "<table border=\"1\" class=\"dataframe\">\n",
              "  <thead>\n",
              "    <tr style=\"text-align: right;\">\n",
              "      <th></th>\n",
              "      <th>d1</th>\n",
              "      <th>d2</th>\n",
              "      <th>d3</th>\n",
              "      <th>d4</th>\n",
              "      <th>d5</th>\n",
              "      <th>d6</th>\n",
              "      <th>d7</th>\n",
              "      <th>d8</th>\n",
              "    </tr>\n",
              "  </thead>\n",
              "  <tbody>\n",
              "    <tr>\n",
              "      <th>0</th>\n",
              "      <td>69.99</td>\n",
              "      <td>70.11</td>\n",
              "      <td>70.23</td>\n",
              "      <td>70.62</td>\n",
              "      <td>70.87</td>\n",
              "      <td>71.44</td>\n",
              "      <td>70.91</td>\n",
              "      <td>69.64</td>\n",
              "    </tr>\n",
              "    <tr>\n",
              "      <th>1</th>\n",
              "      <td>70.11</td>\n",
              "      <td>70.23</td>\n",
              "      <td>70.62</td>\n",
              "      <td>70.87</td>\n",
              "      <td>71.44</td>\n",
              "      <td>70.91</td>\n",
              "      <td>69.64</td>\n",
              "      <td>68.98</td>\n",
              "    </tr>\n",
              "    <tr>\n",
              "      <th>2</th>\n",
              "      <td>70.23</td>\n",
              "      <td>70.62</td>\n",
              "      <td>70.87</td>\n",
              "      <td>71.44</td>\n",
              "      <td>70.91</td>\n",
              "      <td>69.64</td>\n",
              "      <td>68.98</td>\n",
              "      <td>69.58</td>\n",
              "    </tr>\n",
              "    <tr>\n",
              "      <th>3</th>\n",
              "      <td>70.62</td>\n",
              "      <td>70.87</td>\n",
              "      <td>71.44</td>\n",
              "      <td>70.91</td>\n",
              "      <td>69.64</td>\n",
              "      <td>68.98</td>\n",
              "      <td>69.58</td>\n",
              "      <td>69.93</td>\n",
              "    </tr>\n",
              "    <tr>\n",
              "      <th>4</th>\n",
              "      <td>70.87</td>\n",
              "      <td>71.44</td>\n",
              "      <td>70.91</td>\n",
              "      <td>69.64</td>\n",
              "      <td>68.98</td>\n",
              "      <td>69.58</td>\n",
              "      <td>69.93</td>\n",
              "      <td>69.42</td>\n",
              "    </tr>\n",
              "  </tbody>\n",
              "</table>\n",
              "</div>"
            ],
            "text/plain": [
              "      d1     d2     d3     d4     d5     d6     d7     d8\n",
              "0  69.99  70.11  70.23  70.62  70.87  71.44  70.91  69.64\n",
              "1  70.11  70.23  70.62  70.87  71.44  70.91  69.64  68.98\n",
              "2  70.23  70.62  70.87  71.44  70.91  69.64  68.98  69.58\n",
              "3  70.62  70.87  71.44  70.91  69.64  68.98  69.58  69.93\n",
              "4  70.87  71.44  70.91  69.64  68.98  69.58  69.93  69.42"
            ]
          },
          "metadata": {
            "tags": []
          },
          "execution_count": 14
        }
      ]
    },
    {
      "cell_type": "code",
      "metadata": {
        "id": "h27nWlBVkOy9",
        "colab_type": "code",
        "colab": {
          "base_uri": "https://localhost:8080/",
          "height": 35
        },
        "outputId": "4cf81c4c-24b3-44ec-ac81-11c64cae0d05"
      },
      "source": [
        "df1.shape"
      ],
      "execution_count": 15,
      "outputs": [
        {
          "output_type": "execute_result",
          "data": {
            "text/plain": [
              "(1251, 8)"
            ]
          },
          "metadata": {
            "tags": []
          },
          "execution_count": 15
        }
      ]
    },
    {
      "cell_type": "code",
      "metadata": {
        "id": "89iG38snkOzI",
        "colab_type": "code",
        "colab": {
          "base_uri": "https://localhost:8080/",
          "height": 88
        },
        "outputId": "ff2c5b42-c23c-4bdf-cf25-dc6cfcb7842c"
      },
      "source": [
        "x_train=df1.iloc[:1000,:7]\n",
        "x_test=df1.iloc[1000:,:7]\n",
        "y_train=df1['d8'][:1000]\n",
        "y_test=df1['d8'][1000:]\n",
        "print(x_train.shape)\n",
        "print(x_test.shape)\n",
        "print(y_train.shape)\n",
        "print(y_test.shape)"
      ],
      "execution_count": 16,
      "outputs": [
        {
          "output_type": "stream",
          "text": [
            "(1000, 7)\n",
            "(251, 7)\n",
            "(1000,)\n",
            "(251,)\n"
          ],
          "name": "stdout"
        }
      ]
    },
    {
      "cell_type": "code",
      "metadata": {
        "id": "3bI-uBIOkOzX",
        "colab_type": "code",
        "colab": {
          "base_uri": "https://localhost:8080/",
          "height": 291
        },
        "outputId": "4e2c0068-5894-4c21-963f-229e7a14fe1b"
      },
      "source": [
        "from sklearn.preprocessing import StandardScaler\n",
        "sc=StandardScaler()\n",
        "sc.fit(x_train)\n",
        "x_train_sc=pd.DataFrame(sc.transform(x_train),columns=x_train.columns)\n",
        "x_test_sc=pd.DataFrame(sc.transform(x_test),columns=x_test.columns)\n",
        "x_train_sc.describe()"
      ],
      "execution_count": 17,
      "outputs": [
        {
          "output_type": "execute_result",
          "data": {
            "text/html": [
              "<div>\n",
              "<style scoped>\n",
              "    .dataframe tbody tr th:only-of-type {\n",
              "        vertical-align: middle;\n",
              "    }\n",
              "\n",
              "    .dataframe tbody tr th {\n",
              "        vertical-align: top;\n",
              "    }\n",
              "\n",
              "    .dataframe thead th {\n",
              "        text-align: right;\n",
              "    }\n",
              "</style>\n",
              "<table border=\"1\" class=\"dataframe\">\n",
              "  <thead>\n",
              "    <tr style=\"text-align: right;\">\n",
              "      <th></th>\n",
              "      <th>d1</th>\n",
              "      <th>d2</th>\n",
              "      <th>d3</th>\n",
              "      <th>d4</th>\n",
              "      <th>d5</th>\n",
              "      <th>d6</th>\n",
              "      <th>d7</th>\n",
              "    </tr>\n",
              "  </thead>\n",
              "  <tbody>\n",
              "    <tr>\n",
              "      <th>count</th>\n",
              "      <td>1.000000e+03</td>\n",
              "      <td>1.000000e+03</td>\n",
              "      <td>1.000000e+03</td>\n",
              "      <td>1.000000e+03</td>\n",
              "      <td>1.000000e+03</td>\n",
              "      <td>1.000000e+03</td>\n",
              "      <td>1.000000e+03</td>\n",
              "    </tr>\n",
              "    <tr>\n",
              "      <th>mean</th>\n",
              "      <td>2.788880e-16</td>\n",
              "      <td>3.895773e-16</td>\n",
              "      <td>2.224887e-16</td>\n",
              "      <td>1.613154e-15</td>\n",
              "      <td>-1.114664e-15</td>\n",
              "      <td>1.216582e-15</td>\n",
              "      <td>-7.787104e-16</td>\n",
              "    </tr>\n",
              "    <tr>\n",
              "      <th>std</th>\n",
              "      <td>1.000500e+00</td>\n",
              "      <td>1.000500e+00</td>\n",
              "      <td>1.000500e+00</td>\n",
              "      <td>1.000500e+00</td>\n",
              "      <td>1.000500e+00</td>\n",
              "      <td>1.000500e+00</td>\n",
              "      <td>1.000500e+00</td>\n",
              "    </tr>\n",
              "    <tr>\n",
              "      <th>min</th>\n",
              "      <td>-2.525342e+00</td>\n",
              "      <td>-2.534887e+00</td>\n",
              "      <td>-2.544360e+00</td>\n",
              "      <td>-2.553732e+00</td>\n",
              "      <td>-2.562999e+00</td>\n",
              "      <td>-2.572049e+00</td>\n",
              "      <td>-2.580626e+00</td>\n",
              "    </tr>\n",
              "    <tr>\n",
              "      <th>25%</th>\n",
              "      <td>-7.462226e-01</td>\n",
              "      <td>-7.504773e-01</td>\n",
              "      <td>-7.528770e-01</td>\n",
              "      <td>-7.562034e-01</td>\n",
              "      <td>-7.609524e-01</td>\n",
              "      <td>-7.659756e-01</td>\n",
              "      <td>-7.699067e-01</td>\n",
              "    </tr>\n",
              "    <tr>\n",
              "      <th>50%</th>\n",
              "      <td>-1.314048e-01</td>\n",
              "      <td>-1.344606e-01</td>\n",
              "      <td>-1.375483e-01</td>\n",
              "      <td>-1.394377e-01</td>\n",
              "      <td>-1.405654e-01</td>\n",
              "      <td>-1.429550e-01</td>\n",
              "      <td>-1.440447e-01</td>\n",
              "    </tr>\n",
              "    <tr>\n",
              "      <th>75%</th>\n",
              "      <td>9.108578e-01</td>\n",
              "      <td>9.119030e-01</td>\n",
              "      <td>9.119479e-01</td>\n",
              "      <td>9.120439e-01</td>\n",
              "      <td>9.124433e-01</td>\n",
              "      <td>9.119390e-01</td>\n",
              "      <td>9.117654e-01</td>\n",
              "    </tr>\n",
              "    <tr>\n",
              "      <th>max</th>\n",
              "      <td>2.407993e+00</td>\n",
              "      <td>2.410548e+00</td>\n",
              "      <td>2.412954e+00</td>\n",
              "      <td>2.415158e+00</td>\n",
              "      <td>2.417519e+00</td>\n",
              "      <td>2.419599e+00</td>\n",
              "      <td>2.421271e+00</td>\n",
              "    </tr>\n",
              "  </tbody>\n",
              "</table>\n",
              "</div>"
            ],
            "text/plain": [
              "                 d1            d2  ...            d6            d7\n",
              "count  1.000000e+03  1.000000e+03  ...  1.000000e+03  1.000000e+03\n",
              "mean   2.788880e-16  3.895773e-16  ...  1.216582e-15 -7.787104e-16\n",
              "std    1.000500e+00  1.000500e+00  ...  1.000500e+00  1.000500e+00\n",
              "min   -2.525342e+00 -2.534887e+00  ... -2.572049e+00 -2.580626e+00\n",
              "25%   -7.462226e-01 -7.504773e-01  ... -7.659756e-01 -7.699067e-01\n",
              "50%   -1.314048e-01 -1.344606e-01  ... -1.429550e-01 -1.440447e-01\n",
              "75%    9.108578e-01  9.119030e-01  ...  9.119390e-01  9.117654e-01\n",
              "max    2.407993e+00  2.410548e+00  ...  2.419599e+00  2.421271e+00\n",
              "\n",
              "[8 rows x 7 columns]"
            ]
          },
          "metadata": {
            "tags": []
          },
          "execution_count": 17
        }
      ]
    },
    {
      "cell_type": "code",
      "metadata": {
        "id": "ebT_-4HLkOzk",
        "colab_type": "code",
        "colab": {}
      },
      "source": [
        "import tensorflow.keras as keras"
      ],
      "execution_count": 18,
      "outputs": []
    },
    {
      "cell_type": "code",
      "metadata": {
        "id": "AQuIj2uVkOzx",
        "colab_type": "code",
        "colab": {
          "base_uri": "https://localhost:8080/",
          "height": 248
        },
        "outputId": "01b59d33-eeab-4e15-ccfa-cadec43eadc9"
      },
      "source": [
        "from keras.models import Sequential\n",
        "from keras.layers import Dense,Dropout,LSTM\n",
        "model=Sequential()\n",
        "model.add(LSTM(256,input_shape=(7,1)))\n",
        "model.add(Dense(1))\n",
        "model.summary()"
      ],
      "execution_count": 19,
      "outputs": [
        {
          "output_type": "stream",
          "text": [
            "Using TensorFlow backend.\n"
          ],
          "name": "stderr"
        },
        {
          "output_type": "stream",
          "text": [
            "Model: \"sequential_1\"\n",
            "_________________________________________________________________\n",
            "Layer (type)                 Output Shape              Param #   \n",
            "=================================================================\n",
            "lstm_1 (LSTM)                (None, 256)               264192    \n",
            "_________________________________________________________________\n",
            "dense_1 (Dense)              (None, 1)                 257       \n",
            "=================================================================\n",
            "Total params: 264,449\n",
            "Trainable params: 264,449\n",
            "Non-trainable params: 0\n",
            "_________________________________________________________________\n"
          ],
          "name": "stdout"
        }
      ]
    },
    {
      "cell_type": "code",
      "metadata": {
        "id": "jT9xzjwekOz9",
        "colab_type": "code",
        "colab": {}
      },
      "source": [
        "model.compile(optimizer='adam',loss='mse')"
      ],
      "execution_count": 20,
      "outputs": []
    },
    {
      "cell_type": "code",
      "metadata": {
        "id": "SrrTZiAYkO0N",
        "colab_type": "code",
        "colab": {}
      },
      "source": [
        "x_train_sc = x_train_sc.values.reshape(1000,7,1)\n",
        "x_test_sc = x_test_sc.values.reshape(251,7,1)"
      ],
      "execution_count": 21,
      "outputs": []
    },
    {
      "cell_type": "code",
      "metadata": {
        "scrolled": false,
        "id": "i9K-92vgkO0X",
        "colab_type": "code",
        "colab": {
          "base_uri": "https://localhost:8080/",
          "height": 1000
        },
        "outputId": "85797f59-7b2b-4eb3-c062-d69476d89a7f"
      },
      "source": [
        "history = model.fit(x_train_sc,y_train,epochs=100,validation_data=(x_test_sc,y_test))"
      ],
      "execution_count": 22,
      "outputs": [
        {
          "output_type": "stream",
          "text": [
            "Train on 1000 samples, validate on 251 samples\n",
            "Epoch 1/100\n",
            "1000/1000 [==============================] - 2s 2ms/step - loss: 7223.6904 - val_loss: 4943.7342\n",
            "Epoch 2/100\n",
            "1000/1000 [==============================] - 1s 1ms/step - loss: 3546.4514 - val_loss: 3096.4798\n",
            "Epoch 3/100\n",
            "1000/1000 [==============================] - 1s 1ms/step - loss: 2396.0499 - val_loss: 2166.1805\n",
            "Epoch 4/100\n",
            "1000/1000 [==============================] - 1s 1ms/step - loss: 1656.6870 - val_loss: 1519.3923\n",
            "Epoch 5/100\n",
            "1000/1000 [==============================] - 1s 1ms/step - loss: 1137.0259 - val_loss: 1053.4349\n",
            "Epoch 6/100\n",
            "1000/1000 [==============================] - 1s 1ms/step - loss: 771.1295 - val_loss: 721.9581\n",
            "Epoch 7/100\n",
            "1000/1000 [==============================] - 1s 1ms/step - loss: 517.9517 - val_loss: 491.8235\n",
            "Epoch 8/100\n",
            "1000/1000 [==============================] - 1s 1ms/step - loss: 346.6075 - val_loss: 334.0680\n",
            "Epoch 9/100\n",
            "1000/1000 [==============================] - 1s 1ms/step - loss: 235.1837 - val_loss: 228.7258\n",
            "Epoch 10/100\n",
            "1000/1000 [==============================] - 1s 1ms/step - loss: 164.5001 - val_loss: 159.3578\n",
            "Epoch 11/100\n",
            "1000/1000 [==============================] - 1s 1ms/step - loss: 120.7165 - val_loss: 115.1611\n",
            "Epoch 12/100\n",
            "1000/1000 [==============================] - 1s 1ms/step - loss: 94.8701 - val_loss: 86.9282\n",
            "Epoch 13/100\n",
            "1000/1000 [==============================] - 1s 1ms/step - loss: 79.9520 - val_loss: 69.7118\n",
            "Epoch 14/100\n",
            "1000/1000 [==============================] - 1s 1ms/step - loss: 72.1553 - val_loss: 58.4696\n",
            "Epoch 15/100\n",
            "1000/1000 [==============================] - 1s 1ms/step - loss: 67.7085 - val_loss: 51.6733\n",
            "Epoch 16/100\n",
            "1000/1000 [==============================] - 1s 1ms/step - loss: 65.5369 - val_loss: 47.3689\n",
            "Epoch 17/100\n",
            "1000/1000 [==============================] - 1s 1ms/step - loss: 64.4688 - val_loss: 44.7538\n",
            "Epoch 18/100\n",
            "1000/1000 [==============================] - 1s 1ms/step - loss: 62.0399 - val_loss: 41.8152\n",
            "Epoch 19/100\n",
            "1000/1000 [==============================] - 1s 1ms/step - loss: 59.4300 - val_loss: 39.4845\n",
            "Epoch 20/100\n",
            "1000/1000 [==============================] - 1s 1ms/step - loss: 56.4146 - val_loss: 37.5092\n",
            "Epoch 21/100\n",
            "1000/1000 [==============================] - 1s 1ms/step - loss: 55.3579 - val_loss: 36.0822\n",
            "Epoch 22/100\n",
            "1000/1000 [==============================] - 1s 1ms/step - loss: 51.9290 - val_loss: 33.9265\n",
            "Epoch 23/100\n",
            "1000/1000 [==============================] - 1s 1ms/step - loss: 39.8366 - val_loss: 28.5159\n",
            "Epoch 24/100\n",
            "1000/1000 [==============================] - 1s 1ms/step - loss: 27.6189 - val_loss: 23.6763\n",
            "Epoch 25/100\n",
            "1000/1000 [==============================] - 1s 1ms/step - loss: 21.8315 - val_loss: 20.4075\n",
            "Epoch 26/100\n",
            "1000/1000 [==============================] - 1s 1ms/step - loss: 18.2820 - val_loss: 17.3778\n",
            "Epoch 27/100\n",
            "1000/1000 [==============================] - 1s 1ms/step - loss: 15.3436 - val_loss: 17.0328\n",
            "Epoch 28/100\n",
            "1000/1000 [==============================] - 1s 1ms/step - loss: 13.3243 - val_loss: 14.3093\n",
            "Epoch 29/100\n",
            "1000/1000 [==============================] - 1s 1ms/step - loss: 11.5000 - val_loss: 13.6725\n",
            "Epoch 30/100\n",
            "1000/1000 [==============================] - 1s 1ms/step - loss: 10.2240 - val_loss: 14.0319\n",
            "Epoch 31/100\n",
            "1000/1000 [==============================] - 1s 1ms/step - loss: 9.3375 - val_loss: 12.4691\n",
            "Epoch 32/100\n",
            "1000/1000 [==============================] - 1s 1ms/step - loss: 8.7879 - val_loss: 12.6625\n",
            "Epoch 33/100\n",
            "1000/1000 [==============================] - 1s 1ms/step - loss: 8.1573 - val_loss: 13.1594\n",
            "Epoch 34/100\n",
            "1000/1000 [==============================] - 1s 1ms/step - loss: 7.7992 - val_loss: 11.7628\n",
            "Epoch 35/100\n",
            "1000/1000 [==============================] - 1s 1ms/step - loss: 7.5984 - val_loss: 11.2456\n",
            "Epoch 36/100\n",
            "1000/1000 [==============================] - 1s 1ms/step - loss: 7.3654 - val_loss: 11.6715\n",
            "Epoch 37/100\n",
            "1000/1000 [==============================] - 1s 1ms/step - loss: 6.9648 - val_loss: 11.1883\n",
            "Epoch 38/100\n",
            "1000/1000 [==============================] - 1s 1ms/step - loss: 6.7696 - val_loss: 10.5385\n",
            "Epoch 39/100\n",
            "1000/1000 [==============================] - 1s 1ms/step - loss: 6.5814 - val_loss: 10.7399\n",
            "Epoch 40/100\n",
            "1000/1000 [==============================] - 1s 1ms/step - loss: 6.7708 - val_loss: 10.2943\n",
            "Epoch 41/100\n",
            "1000/1000 [==============================] - 1s 1ms/step - loss: 6.3325 - val_loss: 11.1701\n",
            "Epoch 42/100\n",
            "1000/1000 [==============================] - 1s 1ms/step - loss: 6.1401 - val_loss: 10.5786\n",
            "Epoch 43/100\n",
            "1000/1000 [==============================] - 1s 1ms/step - loss: 6.3100 - val_loss: 10.6110\n",
            "Epoch 44/100\n",
            "1000/1000 [==============================] - 1s 1ms/step - loss: 6.0620 - val_loss: 11.2413\n",
            "Epoch 45/100\n",
            "1000/1000 [==============================] - 1s 1ms/step - loss: 5.9899 - val_loss: 9.4251\n",
            "Epoch 46/100\n",
            "1000/1000 [==============================] - 1s 1ms/step - loss: 5.7828 - val_loss: 9.0313\n",
            "Epoch 47/100\n",
            "1000/1000 [==============================] - 1s 1ms/step - loss: 5.9887 - val_loss: 9.6002\n",
            "Epoch 48/100\n",
            "1000/1000 [==============================] - 1s 1ms/step - loss: 5.6513 - val_loss: 9.6489\n",
            "Epoch 49/100\n",
            "1000/1000 [==============================] - 1s 1ms/step - loss: 5.6208 - val_loss: 9.6413\n",
            "Epoch 50/100\n",
            "1000/1000 [==============================] - 1s 1ms/step - loss: 5.5545 - val_loss: 9.0758\n",
            "Epoch 51/100\n",
            "1000/1000 [==============================] - 1s 1ms/step - loss: 5.4408 - val_loss: 9.4645\n",
            "Epoch 52/100\n",
            "1000/1000 [==============================] - 1s 1ms/step - loss: 5.1965 - val_loss: 9.0305\n",
            "Epoch 53/100\n",
            "1000/1000 [==============================] - 1s 1ms/step - loss: 5.1889 - val_loss: 8.9260\n",
            "Epoch 54/100\n",
            "1000/1000 [==============================] - 1s 1ms/step - loss: 5.1854 - val_loss: 8.7780\n",
            "Epoch 55/100\n",
            "1000/1000 [==============================] - 1s 1ms/step - loss: 5.3473 - val_loss: 9.8228\n",
            "Epoch 56/100\n",
            "1000/1000 [==============================] - 1s 1ms/step - loss: 5.1365 - val_loss: 8.5540\n",
            "Epoch 57/100\n",
            "1000/1000 [==============================] - 1s 1ms/step - loss: 4.8770 - val_loss: 8.5078\n",
            "Epoch 58/100\n",
            "1000/1000 [==============================] - 1s 1ms/step - loss: 4.8221 - val_loss: 8.3257\n",
            "Epoch 59/100\n",
            "1000/1000 [==============================] - 1s 1ms/step - loss: 4.7267 - val_loss: 8.7390\n",
            "Epoch 60/100\n",
            "1000/1000 [==============================] - 1s 1ms/step - loss: 4.8736 - val_loss: 8.7697\n",
            "Epoch 61/100\n",
            "1000/1000 [==============================] - 1s 1ms/step - loss: 4.6663 - val_loss: 8.1847\n",
            "Epoch 62/100\n",
            "1000/1000 [==============================] - 1s 1ms/step - loss: 4.5495 - val_loss: 8.1431\n",
            "Epoch 63/100\n",
            "1000/1000 [==============================] - 1s 1ms/step - loss: 4.6957 - val_loss: 8.2587\n",
            "Epoch 64/100\n",
            "1000/1000 [==============================] - 1s 1ms/step - loss: 4.3446 - val_loss: 8.0159\n",
            "Epoch 65/100\n",
            "1000/1000 [==============================] - 1s 1ms/step - loss: 4.2563 - val_loss: 7.4321\n",
            "Epoch 66/100\n",
            "1000/1000 [==============================] - 1s 1ms/step - loss: 4.2859 - val_loss: 6.8470\n",
            "Epoch 67/100\n",
            "1000/1000 [==============================] - 1s 1ms/step - loss: 4.0398 - val_loss: 7.0319\n",
            "Epoch 68/100\n",
            "1000/1000 [==============================] - 1s 1ms/step - loss: 3.8796 - val_loss: 7.2923\n",
            "Epoch 69/100\n",
            "1000/1000 [==============================] - 1s 1ms/step - loss: 3.8967 - val_loss: 7.2187\n",
            "Epoch 70/100\n",
            "1000/1000 [==============================] - 1s 1ms/step - loss: 4.1267 - val_loss: 6.9691\n",
            "Epoch 71/100\n",
            "1000/1000 [==============================] - 1s 1ms/step - loss: 4.0331 - val_loss: 7.7863\n",
            "Epoch 72/100\n",
            "1000/1000 [==============================] - 1s 1ms/step - loss: 3.7047 - val_loss: 7.2067\n",
            "Epoch 73/100\n",
            "1000/1000 [==============================] - 1s 1ms/step - loss: 3.7030 - val_loss: 6.0865\n",
            "Epoch 74/100\n",
            "1000/1000 [==============================] - 1s 1ms/step - loss: 3.6113 - val_loss: 6.6187\n",
            "Epoch 75/100\n",
            "1000/1000 [==============================] - 1s 1ms/step - loss: 3.7730 - val_loss: 6.3480\n",
            "Epoch 76/100\n",
            "1000/1000 [==============================] - 1s 1ms/step - loss: 3.3646 - val_loss: 5.8881\n",
            "Epoch 77/100\n",
            "1000/1000 [==============================] - 1s 1ms/step - loss: 3.1696 - val_loss: 5.6110\n",
            "Epoch 78/100\n",
            "1000/1000 [==============================] - 1s 1ms/step - loss: 3.2301 - val_loss: 5.5898\n",
            "Epoch 79/100\n",
            "1000/1000 [==============================] - 1s 1ms/step - loss: 2.9483 - val_loss: 5.7833\n",
            "Epoch 80/100\n",
            "1000/1000 [==============================] - 1s 1ms/step - loss: 2.8915 - val_loss: 6.2320\n",
            "Epoch 81/100\n",
            "1000/1000 [==============================] - 1s 1ms/step - loss: 3.1396 - val_loss: 5.1055\n",
            "Epoch 82/100\n",
            "1000/1000 [==============================] - 1s 1ms/step - loss: 3.0112 - val_loss: 5.3577\n",
            "Epoch 83/100\n",
            "1000/1000 [==============================] - 1s 1ms/step - loss: 2.8716 - val_loss: 4.5481\n",
            "Epoch 84/100\n",
            "1000/1000 [==============================] - 1s 1ms/step - loss: 2.5953 - val_loss: 4.6439\n",
            "Epoch 85/100\n",
            "1000/1000 [==============================] - 1s 1ms/step - loss: 2.6064 - val_loss: 4.7412\n",
            "Epoch 86/100\n",
            "1000/1000 [==============================] - 1s 1ms/step - loss: 2.8236 - val_loss: 4.2597\n",
            "Epoch 87/100\n",
            "1000/1000 [==============================] - 1s 1ms/step - loss: 2.4778 - val_loss: 4.1664\n",
            "Epoch 88/100\n",
            "1000/1000 [==============================] - 1s 1ms/step - loss: 2.5872 - val_loss: 4.2634\n",
            "Epoch 89/100\n",
            "1000/1000 [==============================] - 1s 1ms/step - loss: 2.4393 - val_loss: 5.6550\n",
            "Epoch 90/100\n",
            "1000/1000 [==============================] - 1s 1ms/step - loss: 2.4842 - val_loss: 3.8825\n",
            "Epoch 91/100\n",
            "1000/1000 [==============================] - 1s 1ms/step - loss: 2.1932 - val_loss: 3.3896\n",
            "Epoch 92/100\n",
            "1000/1000 [==============================] - 1s 1ms/step - loss: 2.0228 - val_loss: 3.3023\n",
            "Epoch 93/100\n",
            "1000/1000 [==============================] - 1s 1ms/step - loss: 2.1367 - val_loss: 3.3934\n",
            "Epoch 94/100\n",
            "1000/1000 [==============================] - 1s 1ms/step - loss: 2.1836 - val_loss: 4.4546\n",
            "Epoch 95/100\n",
            "1000/1000 [==============================] - 1s 1ms/step - loss: 2.1628 - val_loss: 3.3309\n",
            "Epoch 96/100\n",
            "1000/1000 [==============================] - 1s 1ms/step - loss: 1.9550 - val_loss: 3.2859\n",
            "Epoch 97/100\n",
            "1000/1000 [==============================] - 1s 1ms/step - loss: 2.1109 - val_loss: 3.5217\n",
            "Epoch 98/100\n",
            "1000/1000 [==============================] - 1s 1ms/step - loss: 2.2035 - val_loss: 3.5314\n",
            "Epoch 99/100\n",
            "1000/1000 [==============================] - 1s 1ms/step - loss: 1.9907 - val_loss: 3.0615\n",
            "Epoch 100/100\n",
            "1000/1000 [==============================] - 1s 1ms/step - loss: 2.0317 - val_loss: 3.5005\n"
          ],
          "name": "stdout"
        }
      ]
    },
    {
      "cell_type": "code",
      "metadata": {
        "id": "vNkn9aN3kO0k",
        "colab_type": "code",
        "colab": {
          "base_uri": "https://localhost:8080/",
          "height": 283
        },
        "outputId": "d9e2cccd-0f7d-41a5-9d03-7935f201d97b"
      },
      "source": [
        "tr_loss = history.history['loss']\n",
        "val_loss = history.history['val_loss']\n",
        "ep = list(range(1,101))\n",
        "plt.plot(ep,tr_loss,color='r')\n",
        "plt.plot(ep,val_loss,color='b')"
      ],
      "execution_count": 23,
      "outputs": [
        {
          "output_type": "execute_result",
          "data": {
            "text/plain": [
              "[<matplotlib.lines.Line2D at 0x7efc12d3f7f0>]"
            ]
          },
          "metadata": {
            "tags": []
          },
          "execution_count": 23
        },
        {
          "output_type": "display_data",
          "data": {
            "image/png": "[encoded data removed]",
            "text/plain": [
              "<Figure size 432x288 with 1 Axes>"
            ]
          },
          "metadata": {
            "tags": [],
            "needs_background": "light"
          }
        }
      ]
    },
    {
      "cell_type": "code",
      "metadata": {
        "scrolled": false,
        "id": "7VjG4hdMkO0v",
        "colab_type": "code",
        "colab": {
          "base_uri": "https://localhost:8080/",
          "height": 1000
        },
        "outputId": "ef55df93-ecc6-482c-f9dd-b297c208be0e"
      },
      "source": [
        "model.predict(x_test_sc)"
      ],
      "execution_count": 24,
      "outputs": [
        {
          "output_type": "execute_result",
          "data": {
            "text/plain": [
              "array([[ 97.86093 ],\n",
              "       [ 98.168106],\n",
              "       [ 98.6463  ],\n",
              "       [ 99.01273 ],\n",
              "       [ 99.31677 ],\n",
              "       [ 99.53558 ],\n",
              "       [ 99.78735 ],\n",
              "       [100.02435 ],\n",
              "       [100.19124 ],\n",
              "       [100.384155],\n",
              "       [ 99.804   ],\n",
              "       [ 98.82328 ],\n",
              "       [ 97.81355 ],\n",
              "       [ 97.162674],\n",
              "       [ 96.72571 ],\n",
              "       [ 96.96019 ],\n",
              "       [ 97.23444 ],\n",
              "       [ 97.18164 ],\n",
              "       [ 96.707756],\n",
              "       [ 96.168945],\n",
              "       [ 95.602905],\n",
              "       [ 95.131775],\n",
              "       [ 94.949844],\n",
              "       [ 94.93455 ],\n",
              "       [ 94.962296],\n",
              "       [ 95.13639 ],\n",
              "       [ 95.40123 ],\n",
              "       [ 95.72542 ],\n",
              "       [ 95.9572  ],\n",
              "       [ 96.00909 ],\n",
              "       [ 95.7107  ],\n",
              "       [ 95.46054 ],\n",
              "       [ 95.210915],\n",
              "       [ 94.767525],\n",
              "       [ 94.51589 ],\n",
              "       [ 94.34395 ],\n",
              "       [ 94.34893 ],\n",
              "       [ 94.29447 ],\n",
              "       [ 94.03952 ],\n",
              "       [ 93.24852 ],\n",
              "       [ 92.62925 ],\n",
              "       [ 91.92241 ],\n",
              "       [ 91.46997 ],\n",
              "       [ 91.4398  ],\n",
              "       [ 91.42877 ],\n",
              "       [ 91.30377 ],\n",
              "       [ 91.083435],\n",
              "       [ 90.9305  ],\n",
              "       [ 91.001434],\n",
              "       [ 92.428406],\n",
              "       [ 93.23361 ],\n",
              "       [ 93.87668 ],\n",
              "       [ 94.40599 ],\n",
              "       [ 94.814285],\n",
              "       [ 94.93846 ],\n",
              "       [ 95.04115 ],\n",
              "       [ 94.87506 ],\n",
              "       [ 94.4114  ],\n",
              "       [ 93.8513  ],\n",
              "       [ 93.350464],\n",
              "       [ 93.10782 ],\n",
              "       [ 93.13747 ],\n",
              "       [ 93.349335],\n",
              "       [ 93.55748 ],\n",
              "       [ 93.631   ],\n",
              "       [ 93.49804 ],\n",
              "       [ 93.17712 ],\n",
              "       [ 93.19075 ],\n",
              "       [ 93.03327 ],\n",
              "       [ 92.88859 ],\n",
              "       [ 92.923744],\n",
              "       [ 93.01015 ],\n",
              "       [ 93.193405],\n",
              "       [ 93.01604 ],\n",
              "       [ 92.60167 ],\n",
              "       [ 92.34537 ],\n",
              "       [ 92.8504  ],\n",
              "       [ 93.38469 ],\n",
              "       [ 93.65846 ],\n",
              "       [ 94.24643 ],\n",
              "       [ 94.762955],\n",
              "       [ 95.0531  ],\n",
              "       [ 95.052   ],\n",
              "       [ 94.59455 ],\n",
              "       [ 94.01216 ],\n",
              "       [ 93.3284  ],\n",
              "       [ 93.20641 ],\n",
              "       [ 93.56349 ],\n",
              "       [ 94.389114],\n",
              "       [ 95.01668 ],\n",
              "       [ 95.65238 ],\n",
              "       [ 96.31581 ],\n",
              "       [ 96.03722 ],\n",
              "       [ 95.10637 ],\n",
              "       [ 93.80176 ],\n",
              "       [ 92.743774],\n",
              "       [ 91.94356 ],\n",
              "       [ 91.844345],\n",
              "       [ 92.51311 ],\n",
              "       [ 92.93279 ],\n",
              "       [ 93.38356 ],\n",
              "       [ 93.86902 ],\n",
              "       [ 93.86611 ],\n",
              "       [ 92.61495 ],\n",
              "       [ 90.95165 ],\n",
              "       [ 89.16595 ],\n",
              "       [ 87.29747 ],\n",
              "       [ 85.98823 ],\n",
              "       [ 85.328445],\n",
              "       [ 85.00101 ],\n",
              "       [ 84.99211 ],\n",
              "       [ 85.02083 ],\n",
              "       [ 84.7925  ],\n",
              "       [ 84.86304 ],\n",
              "       [ 84.608376],\n",
              "       [ 84.17347 ],\n",
              "       [ 84.17284 ],\n",
              "       [ 84.19506 ],\n",
              "       [ 84.757965],\n",
              "       [ 85.35315 ],\n",
              "       [ 85.78255 ],\n",
              "       [ 85.77852 ],\n",
              "       [ 85.855835],\n",
              "       [ 85.78759 ],\n",
              "       [ 85.56192 ],\n",
              "       [ 85.429184],\n",
              "       [ 85.3692  ],\n",
              "       [ 85.01961 ],\n",
              "       [ 84.59324 ],\n",
              "       [ 84.19213 ],\n",
              "       [ 84.22099 ],\n",
              "       [ 83.81045 ],\n",
              "       [ 83.63464 ],\n",
              "       [ 83.65731 ],\n",
              "       [ 83.33035 ],\n",
              "       [ 83.469696],\n",
              "       [ 83.66446 ],\n",
              "       [ 83.756096],\n",
              "       [ 83.93204 ],\n",
              "       [ 84.24039 ],\n",
              "       [ 84.37099 ],\n",
              "       [ 84.17719 ],\n",
              "       [ 84.062225],\n",
              "       [ 84.093704],\n",
              "       [ 84.34513 ],\n",
              "       [ 84.9114  ],\n",
              "       [ 85.55466 ],\n",
              "       [ 85.80946 ],\n",
              "       [ 86.150986],\n",
              "       [ 86.60547 ],\n",
              "       [ 87.16407 ],\n",
              "       [ 87.56005 ],\n",
              "       [ 87.79617 ],\n",
              "       [ 87.787994],\n",
              "       [ 87.72945 ],\n",
              "       [ 87.78047 ],\n",
              "       [ 87.87369 ],\n",
              "       [ 87.89764 ],\n",
              "       [ 88.24378 ],\n",
              "       [ 91.383575],\n",
              "       [ 93.33934 ],\n",
              "       [ 94.55051 ],\n",
              "       [ 95.58417 ],\n",
              "       [ 96.45137 ],\n",
              "       [ 97.15895 ],\n",
              "       [ 96.99599 ],\n",
              "       [ 97.11928 ],\n",
              "       [ 97.03739 ],\n",
              "       [ 96.85442 ],\n",
              "       [ 96.7177  ],\n",
              "       [ 96.71918 ],\n",
              "       [ 96.80118 ],\n",
              "       [ 96.92197 ],\n",
              "       [ 97.046616],\n",
              "       [ 97.06003 ],\n",
              "       [ 97.25058 ],\n",
              "       [ 97.74344 ],\n",
              "       [ 96.75081 ],\n",
              "       [ 95.10751 ],\n",
              "       [ 93.65749 ],\n",
              "       [ 92.49928 ],\n",
              "       [ 90.9913  ],\n",
              "       [ 90.19557 ],\n",
              "       [ 90.21874 ],\n",
              "       [ 89.9294  ],\n",
              "       [ 89.63637 ],\n",
              "       [ 89.47255 ],\n",
              "       [ 89.41913 ],\n",
              "       [ 89.403435],\n",
              "       [ 89.23326 ],\n",
              "       [ 88.95061 ],\n",
              "       [ 88.35415 ],\n",
              "       [ 87.71109 ],\n",
              "       [ 87.27428 ],\n",
              "       [ 86.92888 ],\n",
              "       [ 87.244125],\n",
              "       [ 87.94737 ],\n",
              "       [ 87.82178 ],\n",
              "       [ 87.81477 ],\n",
              "       [ 87.610054],\n",
              "       [ 87.38786 ],\n",
              "       [ 87.49986 ],\n",
              "       [ 87.67584 ],\n",
              "       [ 88.06157 ],\n",
              "       [ 88.85008 ],\n",
              "       [ 90.285576],\n",
              "       [ 91.78518 ],\n",
              "       [ 92.91654 ],\n",
              "       [ 93.87163 ],\n",
              "       [ 94.72954 ],\n",
              "       [ 95.120415],\n",
              "       [ 95.37378 ],\n",
              "       [ 95.76441 ],\n",
              "       [ 95.89345 ],\n",
              "       [ 95.71546 ],\n",
              "       [ 95.48753 ],\n",
              "       [ 95.159325],\n",
              "       [ 94.86977 ],\n",
              "       [ 94.70627 ],\n",
              "       [ 94.66464 ],\n",
              "       [ 94.63472 ],\n",
              "       [ 94.90004 ],\n",
              "       [ 95.42642 ],\n",
              "       [ 96.03214 ],\n",
              "       [ 96.489555],\n",
              "       [ 96.817566],\n",
              "       [ 96.95442 ],\n",
              "       [ 97.18637 ],\n",
              "       [ 97.45145 ],\n",
              "       [ 97.90283 ],\n",
              "       [ 98.08316 ],\n",
              "       [ 98.29547 ],\n",
              "       [ 98.5372  ],\n",
              "       [ 98.772385],\n",
              "       [ 99.41478 ],\n",
              "       [100.19887 ],\n",
              "       [101.29452 ],\n",
              "       [102.44603 ],\n",
              "       [103.20385 ],\n",
              "       [103.4778  ],\n",
              "       [103.52482 ],\n",
              "       [103.61157 ],\n",
              "       [103.878914],\n",
              "       [104.09444 ],\n",
              "       [104.294   ],\n",
              "       [104.411026],\n",
              "       [104.42265 ],\n",
              "       [104.323975],\n",
              "       [104.084305],\n",
              "       [103.83333 ],\n",
              "       [103.47149 ]], dtype=float32)"
            ]
          },
          "metadata": {
            "tags": []
          },
          "execution_count": 24
        }
      ]
    },
    {
      "cell_type": "code",
      "metadata": {
        "id": "-oBPROuHkO0-",
        "colab_type": "code",
        "colab": {
          "base_uri": "https://localhost:8080/",
          "height": 283
        },
        "outputId": "f2a19f81-a8b9-4b43-a2bc-531e23954f2c"
      },
      "source": [
        "plt.plot(range(len(x_test_sc)),model.predict(x_test_sc).flat)\n",
        "plt.plot(range(len(x_test_sc)),y_test)"
      ],
      "execution_count": 25,
      "outputs": [
        {
          "output_type": "execute_result",
          "data": {
            "text/plain": [
              "[<matplotlib.lines.Line2D at 0x7efc11ae80f0>]"
            ]
          },
          "metadata": {
            "tags": []
          },
          "execution_count": 25
        },
        {
          "output_type": "display_data",
          "data": {
            "image/png": "[encoded data removed]",
            "text/plain": [
              "<Figure size 432x288 with 1 Axes>"
            ]
          },
          "metadata": {
            "tags": [],
            "needs_background": "light"
          }
        }
      ]
    },
    {
      "cell_type": "code",
      "metadata": {
        "id": "McEIog7CkO1L",
        "colab_type": "code",
        "colab": {
          "base_uri": "https://localhost:8080/",
          "height": 141
        },
        "outputId": "ce18b4f6-f3ba-4ad2-db3a-b3d6c9cd5d7e"
      },
      "source": [
        "x_test_sc[0].reshape(1,7,1)"
      ],
      "execution_count": 26,
      "outputs": [
        {
          "output_type": "execute_result",
          "data": {
            "text/plain": [
              "array([[[0.94229206],\n",
              "        [0.98079554],\n",
              "        [1.0330317 ],\n",
              "        [0.93268549],\n",
              "        [0.98758045],\n",
              "        [1.02388317],\n",
              "        [1.01519041]]])"
            ]
          },
          "metadata": {
            "tags": []
          },
          "execution_count": 26
        }
      ]
    },
    {
      "cell_type": "code",
      "metadata": {
        "id": "nfxyzP9QkO1V",
        "colab_type": "code",
        "colab": {
          "base_uri": "https://localhost:8080/",
          "height": 35
        },
        "outputId": "617f35b2-63a4-43ff-ebbe-2cf76d8f3c8b"
      },
      "source": [
        "model.predict(x_test_sc[0].reshape(1,7,1))"
      ],
      "execution_count": 27,
      "outputs": [
        {
          "output_type": "execute_result",
          "data": {
            "text/plain": [
              "array([[97.86093]], dtype=float32)"
            ]
          },
          "metadata": {
            "tags": []
          },
          "execution_count": 27
        }
      ]
    },
    {
      "cell_type": "code",
      "metadata": {
        "id": "QaWZn0_HkO1o",
        "colab_type": "code",
        "colab": {
          "base_uri": "https://localhost:8080/",
          "height": 35
        },
        "outputId": "7b295557-8f93-4dfa-f69c-ee61cf841ed9"
      },
      "source": [
        "y_test[1000]"
      ],
      "execution_count": 28,
      "outputs": [
        {
          "output_type": "execute_result",
          "data": {
            "text/plain": [
              "99.07"
            ]
          },
          "metadata": {
            "tags": []
          },
          "execution_count": 28
        }
      ]
    }
  ]
}