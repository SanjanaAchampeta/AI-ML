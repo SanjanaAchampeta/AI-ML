{
 "cells": [
  {
   "cell_type": "code",
   "execution_count": 2,
   "metadata": {},
   "outputs": [
    {
     "name": "stdout",
     "output_type": "stream",
     "text": [
      "sanjanabring#3\n",
      "enter yes or no: yes\n",
      "tomwrite!5\n",
      "enter yes or no: yes\n",
      "ratplay@7\n",
      "enter yes or no: no\n"
     ]
    }
   ],
   "source": [
    "# password picker\n",
    "\n",
    "import random\n",
    "x=\"yes\"\n",
    "while(x==\"yes\"):\n",
    "    nouns=[\"sanjana\",\"rat\",\"tom\",\"nishita\",\"vaishnavi\",\"book\",\"table\",\"chair\",\n",
    "          \"taj\",\"india\"]\n",
    "    verbs=[\"eat\",\"play\",\"write\",\"jump\",\"feel\",\"bring\",\"jump\",\"slip\",\"smell\",\"speak\"]\n",
    "    special_char=[\"@\",\"#\",\"!\",\"%\",\"^\",\"*\",\"(\",\")\",\"$\"]\n",
    "    numbers=[0,1,2,3,4,5,6,7,8,9]\n",
    "    t1=random.choice(nouns)\n",
    "    t2=random.choice(verbs)\n",
    "    t3=random.choice(special_char)\n",
    "    t4=random.choice(numbers)\n",
    "    print(t1,end=\"\")\n",
    "    print(t2,end=\"\")\n",
    "    print(t3,end=\"\")\n",
    "    print(t4)\n",
    "    x = input(\"enter yes or no: \")"
   ]
  },
  {
   "cell_type": "code",
   "execution_count": null,
   "metadata": {},
   "outputs": [],
   "source": []
  },
  {
   "cell_type": "code",
   "execution_count": null,
   "metadata": {},
   "outputs": [],
   "source": []
  }
 ],
 "metadata": {
  "kernelspec": {
   "display_name": "Python 3",
   "language": "python",
   "name": "python3"
  },
  "language_info": {
   "codemirror_mode": {
    "name": "ipython",
    "version": 3
   },
   "file_extension": ".py",
   "mimetype": "text/x-python",
   "name": "python",
   "nbconvert_exporter": "python",
   "pygments_lexer": "ipython3",
   "version": "3.7.4"
  }
 },
 "nbformat": 4,
 "nbformat_minor": 2
}
