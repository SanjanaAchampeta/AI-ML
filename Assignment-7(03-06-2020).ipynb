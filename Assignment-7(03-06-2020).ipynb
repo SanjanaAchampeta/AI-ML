{
 "cells": [
  {
   "cell_type": "markdown",
   "metadata": {},
   "source": [
    "### CSE-221710304051-Sanjana A"
   ]
  },
  {
   "cell_type": "code",
   "execution_count": 9,
   "metadata": {},
   "outputs": [],
   "source": [
    "# Print the contents of a file line by line putting a line number for each line.\n",
    "\n",
    "f = open(\"file.txt\", \"a\")\n",
    "f.write(\"my name is sanjana\\n I study in gitam university\\n I am from Hyderabad\\n Hello friends\")\n",
    "f.close()"
   ]
  },
  {
   "cell_type": "code",
   "execution_count": 10,
   "metadata": {},
   "outputs": [
    {
     "name": "stdout",
     "output_type": "stream",
     "text": [
      "1 .  my name is sanjana\n",
      "\n",
      "2 .   I study in gitam university\n",
      "\n",
      "3 .   I am from Hyderabad\n",
      "\n",
      "4 .   Hello friendsmy name is sanjana\n",
      "\n",
      "5 .   I study in gitam university\n",
      "\n",
      "6 .   I am from Hyderabad\n",
      "\n",
      "7 .   Hello friendsmy name is sanjana\n",
      "\n",
      "8 .   I study in gitam university\n",
      "\n",
      "9 .   I am from Hyderabad\n",
      "\n",
      "10 .   Hello friends\n"
     ]
    }
   ],
   "source": [
    "with open(\"file.txt\",\"r\") as f:\n",
    "    i=1\n",
    "    for line in f:\n",
    "        print(i,\". \",line)\n",
    "        i+=1"
   ]
  },
  {
   "cell_type": "code",
   "execution_count": 11,
   "metadata": {},
   "outputs": [],
   "source": [
    "# Copy the contents of a text file into another, \n",
    "# printing the reversed version of each input line\n",
    "\n",
    "with open(\"file.txt\",\"r\") as f:\n",
    "    with open(\"file1.txt\",\"w\") as f1:     # coping\n",
    "        for line in f:\n",
    "            f1.write(line)"
   ]
  },
  {
   "cell_type": "code",
   "execution_count": 12,
   "metadata": {},
   "outputs": [
    {
     "name": "stdout",
     "output_type": "stream",
     "text": [
      "\n",
      "anajnas si eman ym\n",
      "\n",
      "ytisrevinu matig ni yduts I \n",
      "\n",
      "dabaredyH morf ma I \n",
      "\n",
      "anajnas si eman ymsdneirf olleH \n",
      "\n",
      "ytisrevinu matig ni yduts I \n",
      "\n",
      "dabaredyH morf ma I \n",
      "\n",
      "anajnas si eman ymsdneirf olleH \n",
      "\n",
      "ytisrevinu matig ni yduts I \n",
      "\n",
      "dabaredyH morf ma I \n",
      "sdneirf olleH \n"
     ]
    }
   ],
   "source": [
    "with open(\"file1.txt\",\"r\") as f1:\n",
    "        for line in f1:                  # display in reverse order \n",
    "            print(line[::-1])"
   ]
  },
  {
   "cell_type": "code",
   "execution_count": 13,
   "metadata": {},
   "outputs": [
    {
     "name": "stdout",
     "output_type": "stream",
     "text": [
      "True\n",
      "[1, 2, 3]\n"
     ]
    }
   ],
   "source": [
    "# Function to find duplicates in lists\n",
    "\n",
    "def duplicate(l):\n",
    "    for i in l:\n",
    "        if(l.count(i)>1):\n",
    "            return True\n",
    "            break\n",
    "        else:\n",
    "            continue\n",
    "    return False\n",
    "def removed(f):\n",
    "    for i in l:\n",
    "        if i not in li:\n",
    "            li.append(i)\n",
    "    return li\n",
    "l = [1,2,3,2]\n",
    "li= []\n",
    "f = (duplicate(l))\n",
    "print(f)\n",
    "if(f == True):\n",
    "    print(removed(l))\n"
   ]
  },
  {
   "cell_type": "code",
   "execution_count": 14,
   "metadata": {},
   "outputs": [
    {
     "name": "stdout",
     "output_type": "stream",
     "text": [
      "True\n"
     ]
    }
   ],
   "source": [
    "#A permutation of a list is another list with the same elements, \n",
    "#but in a possibly different order. For example, [1,2,1]        \n",
    "#is a permutation of [2,1,1], but not of [1,2,2]. \n",
    "#Write a functionisPermutation (list1, list2): boolthat returns True if        \n",
    "#its arguments are permutations of each other.\n",
    "\n",
    "\n",
    "def ispermutation(l1,l2):\n",
    "    sum1 = sum(l1)\n",
    "    sum2 = sum(l2)\n",
    "    if sum1 == sum2:\n",
    "        return True\n",
    "    else:\n",
    "        return False\n",
    "l1 = [1,2,1]\n",
    "l2 = [1,1,2]\n",
    "print(ispermutation(l1,l2))"
   ]
  },
  {
   "cell_type": "code",
   "execution_count": 7,
   "metadata": {},
   "outputs": [
    {
     "name": "stdout",
     "output_type": "stream",
     "text": [
      "fraction is : 0.5\n",
      "fraction: None\n",
      "Addition is : 1.25\n",
      "addition : None\n",
      "subtraction is : -0.25\n",
      "subtraction None\n",
      "multiplication is : 0.375\n",
      "multiplication : None\n",
      "divison is : 0.6666666666666666\n",
      "divison : None\n"
     ]
    }
   ],
   "source": [
    "#Develop a package for fractions. Develop a module that performs operations on fractions. \n",
    "#It should have methods to create fractions, perform operations on two fractions, \n",
    "#simplify a fraction, and print a fraction.\n",
    "#You should use that package and illustrate those operations.\n",
    "\n",
    "import fractions as f\n",
    "print(\"fraction:\",f.fracidis(10,20))\n",
    "print(\"addition :\",f.add(10,20,30,40))\n",
    "print(\"subtraction\",f.sub(10,20,30,40))      # user defined module fraction\n",
    "print(\"multiplication :\",f.mul(10,20,30,40))\n",
    "print(\"divison :\",f.div(10,20,30,40))"
   ]
  },
  {
   "cell_type": "code",
   "execution_count": null,
   "metadata": {},
   "outputs": [],
   "source": []
  },
  {
   "cell_type": "code",
   "execution_count": null,
   "metadata": {},
   "outputs": [],
   "source": []
  }
 ],
 "metadata": {
  "kernelspec": {
   "display_name": "Python 3",
   "language": "python",
   "name": "python3"
  },
  "language_info": {
   "codemirror_mode": {
    "name": "ipython",
    "version": 3
   },
   "file_extension": ".py",
   "mimetype": "text/x-python",
   "name": "python",
   "nbconvert_exporter": "python",
   "pygments_lexer": "ipython3",
   "version": "3.7.4"
  }
 },
 "nbformat": 4,
 "nbformat_minor": 2
}
